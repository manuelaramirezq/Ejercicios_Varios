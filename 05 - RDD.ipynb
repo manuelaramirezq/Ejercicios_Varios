{
  "nbformat": 4,
  "nbformat_minor": 0,
  "metadata": {
    "colab": {
      "name": "05 - RDD.ipynb",
      "provenance": [],
      "collapsed_sections": []
    },
    "kernelspec": {
      "name": "python3",
      "display_name": "Python 3"
    }
  },
  "cells": [
    {
      "cell_type": "code",
      "metadata": {
        "id": "NR0mBQLzQSE3"
      },
      "source": [
        "!wget --no-cache -O init.py -q https://raw.githubusercontent.com/UDEA-Esp-Analitica-y-Ciencia-de-Datos/EACD-03-BIGDATA/master/init.py\n",
        "import init; init.init(force_download=False); \n",
        "from IPython.display import Image"
      ],
      "execution_count": 195,
      "outputs": []
    },
    {
      "cell_type": "code",
      "metadata": {
        "id": "VjpVTH9sQZvB",
        "colab": {
          "base_uri": "https://localhost:8080/",
          "height": 251
        },
        "outputId": "68907b81-bcbe-4eca-b8bb-0683db34e394"
      },
      "source": [
        "Image(\"local/imgs/udea-datascience.png\")"
      ],
      "execution_count": 184,
      "outputs": [
        {
          "output_type": "execute_result",
          "data": {
            "image/png": "[encoded data removed]",
            "text/plain": [
              "<IPython.core.display.Image object>"
            ]
          },
          "metadata": {},
          "execution_count": 184
        }
      ]
    },
    {
      "cell_type": "code",
      "metadata": {
        "id": "5spYqCiCSshN"
      },
      "source": [
        "#Instalación\n",
        "!apt-get install openjdk-11-jdk-headless -qq > /dev/null\n",
        "!wget -q http://archive.apache.org/dist/spark/spark-3.0.1/spark-3.0.1-bin-hadoop3.2.tgz\n",
        "!tar xf spark-3.0.1-bin-hadoop3.2.tgz \n",
        "!pip install -q findspark\n",
        "\n",
        "#Variables de Entorno\n",
        "import os\n",
        "os.environ[\"JAVA_HOME\"] = \"/usr/lib/jvm/java-11-openjdk-amd64\"\n",
        "os.environ[\"SPARK_HOME\"] = \"/content/spark-3.0.1-bin-hadoop3.2\"\n",
        "\n",
        "#SparkContext\n",
        "import findspark\n",
        "findspark.init()\n",
        "from pyspark.sql import SparkSession\n",
        "from pyspark import SparkContext\n",
        "spark = SparkSession.builder.master(\"local[*]\").getOrCreate()\n",
        "sc = SparkContext.getOrCreate()"
      ],
      "execution_count": 196,
      "outputs": []
    },
    {
      "cell_type": "markdown",
      "metadata": {
        "id": "jJjCEwKmRhMs"
      },
      "source": [
        "#**RDD**\n"
      ]
    },
    {
      "cell_type": "markdown",
      "metadata": {
        "id": "AKP1yGjGkuyn"
      },
      "source": [
        "\n",
        "Un RDD (Dataset Distribuido Resiliente) es una colección de elementos que es tolerante a fallos y que es capaz de operar en paralelo.\n",
        "\n",
        "Se considera como la principal abstracción de datos de Spark, definido desde la primera versión, y permite que los datos se puedan particionar y distribuir en los nodos del clúster.\n",
        "\n",
        "Estas son las principales características de los RDD:\n",
        "* Inmutable: Una vez creado NO puede ser modificado\n",
        "* Tolerancia a fallas: Ya que los RDD están particionados y distribuidos en los nodos del clúster, si un nodo falla se puede recuperar los datos consultando otro nodo\n",
        "* Evaluación perezosa: Las transformaciones realizada al RDD no se ejecutan de inmediato, se almacenan en un DAG (Grafo Acíclico dirigido) y se resuelven cuando sea necesario resolverlas\n",
        "\n"
      ]
    },
    {
      "cell_type": "markdown",
      "metadata": {
        "id": "PAe39uHASJ5F"
      },
      "source": [
        "**Crear un RDD**\n",
        "\n",
        "Existen dos formas de crear un RDD\n",
        "\n",
        "\n",
        "1. Paralelizar una colección existente\n",
        "\n",
        "Crear un RDD usando el método parallelize del SparkContext"
      ]
    },
    {
      "cell_type": "code",
      "metadata": {
        "id": "vZSz8ORfSSma",
        "colab": {
          "base_uri": "https://localhost:8080/"
        },
        "outputId": "0274e60b-0151-4bde-8029-5d7a1a2e71a8"
      },
      "source": [
        "num = [0, 1, 2, 3, 4, 5]\n",
        "type(num)"
      ],
      "execution_count": 186,
      "outputs": [
        {
          "output_type": "execute_result",
          "data": {
            "text/plain": [
              "list"
            ]
          },
          "metadata": {},
          "execution_count": 186
        }
      ]
    },
    {
      "cell_type": "code",
      "metadata": {
        "id": "BcMaFWakSYHN",
        "colab": {
          "base_uri": "https://localhost:8080/"
        },
        "outputId": "c13a5e1c-0ff2-420b-bdcb-75114fc1ff3a"
      },
      "source": [
        "numRdd=sc.parallelize(num)\n",
        "type(numRdd)"
      ],
      "execution_count": 187,
      "outputs": [
        {
          "output_type": "execute_result",
          "data": {
            "text/plain": [
              "pyspark.rdd.RDD"
            ]
          },
          "metadata": {},
          "execution_count": 187
        }
      ]
    },
    {
      "cell_type": "markdown",
      "metadata": {
        "id": "3hmt5o_lThrd"
      },
      "source": [
        "2. Hacer referencia a un conjunto de datos en un sistema de almacenamiento externo\n",
        "\n",
        "Crear un RDD usando el método textFile del SparkContext"
      ]
    },
    {
      "cell_type": "code",
      "metadata": {
        "id": "aRT0uF5HTn1l",
        "colab": {
          "base_uri": "https://localhost:8080/"
        },
        "outputId": "4510c6c0-ad8a-45a5-8c33-52b52c75822a"
      },
      "source": [
        "textRdd = sc.textFile(\"local/data/animales.txt\")\n",
        "type(textRdd)"
      ],
      "execution_count": 188,
      "outputs": [
        {
          "output_type": "execute_result",
          "data": {
            "text/plain": [
              "pyspark.rdd.RDD"
            ]
          },
          "metadata": {},
          "execution_count": 188
        }
      ]
    },
    {
      "cell_type": "markdown",
      "metadata": {
        "id": "3-4_CAnplm7c"
      },
      "source": [
        "Al crear un RDD este es particionado y cada una de esas particiones se distribuye en el clúster.\n",
        "\n",
        "Veamos cómo se crean esas particiones"
      ]
    },
    {
      "cell_type": "code",
      "metadata": {
        "id": "blRjXnzSl5w8",
        "colab": {
          "base_uri": "https://localhost:8080/"
        },
        "outputId": "45a93ae9-003e-4a32-c4cb-c12a235b0215"
      },
      "source": [
        "numRdd.getNumPartitions()"
      ],
      "execution_count": 189,
      "outputs": [
        {
          "output_type": "execute_result",
          "data": {
            "text/plain": [
              "2"
            ]
          },
          "metadata": {},
          "execution_count": 189
        }
      ]
    },
    {
      "cell_type": "markdown",
      "metadata": {
        "id": "ryS4ZB16mA3c"
      },
      "source": [
        "Ese número de particiones a utilizar puede ser indicado por el usuario"
      ]
    },
    {
      "cell_type": "code",
      "metadata": {
        "id": "4B3Xs7oamASc"
      },
      "source": [
        "numRddP4=sc.parallelize(num,4)"
      ],
      "execution_count": 190,
      "outputs": []
    },
    {
      "cell_type": "code",
      "metadata": {
        "id": "4gGkXwzhmdGt",
        "colab": {
          "base_uri": "https://localhost:8080/"
        },
        "outputId": "f6d787f6-7d17-41ea-a498-2a3f8ad578b0"
      },
      "source": [
        "numRddP4.getNumPartitions()"
      ],
      "execution_count": 191,
      "outputs": [
        {
          "output_type": "execute_result",
          "data": {
            "text/plain": [
              "4"
            ]
          },
          "metadata": {},
          "execution_count": 191
        }
      ]
    },
    {
      "cell_type": "markdown",
      "metadata": {
        "id": "tSIxA-S2aGLM"
      },
      "source": [
        "**Evaluación perezosa**\n",
        "\n",
        "La evaluación perezosa de los RDD se refiere a que las acciones no se ejecutan hasta que no sea estrictamente necesario. En su lugar se crea un Grafo Dirigido Asincrónico (DAG) que  se ejecutará cuando sea necesario.\n",
        "\n",
        "Para comprobarlo creamos un RDD a partir de un archivo que no existe\n",
        "\n"
      ]
    },
    {
      "cell_type": "code",
      "metadata": {
        "id": "PyRtcrEXa2BQ"
      },
      "source": [
        "textRdd = sc.textFile(\"local/data/archivo_no_existe.txt\")"
      ],
      "execution_count": 198,
      "outputs": []
    },
    {
      "cell_type": "markdown",
      "metadata": {
        "id": "LC5ROCh0a727"
      },
      "source": [
        "No se genera ningún error a pesar de que el archivo no existe.\n",
        "\n",
        "Ahora apliquemos un collect() para obligar a que se ejecute el grafo"
      ]
    },
    {
      "cell_type": "code",
      "metadata": {
        "id": "6caNPK2GbHEK",
        "colab": {
          "base_uri": "https://localhost:8080/",
          "height": 883
        },
        "outputId": "02d3c3ca-3cac-4f2d-8c89-0d4bd94f9140"
      },
      "source": [
        "textRdd.collect()"
      ],
      "execution_count": 199,
      "outputs": [
        {
          "output_type": "error",
          "ename": "Py4JJavaError",
          "evalue": "ignored",
          "traceback": [
            "\u001b[0;31m---------------------------------------------------------------------------\u001b[0m",
            "\u001b[0;31mPy4JJavaError\u001b[0m                             Traceback (most recent call last)",
            "\u001b[0;32m<ipython-input-199-d68fda5930d1>\u001b[0m in \u001b[0;36m<module>\u001b[0;34m()\u001b[0m\n\u001b[0;32m----> 1\u001b[0;31m \u001b[0mtextRdd\u001b[0m\u001b[0;34m.\u001b[0m\u001b[0mcollect\u001b[0m\u001b[0;34m(\u001b[0m\u001b[0;34m)\u001b[0m\u001b[0;34m\u001b[0m\u001b[0;34m\u001b[0m\u001b[0m\n\u001b[0m",
            "\u001b[0;32m/content/spark-3.0.1-bin-hadoop3.2/python/pyspark/rdd.py\u001b[0m in \u001b[0;36mcollect\u001b[0;34m(self)\u001b[0m\n\u001b[1;32m    887\u001b[0m         \"\"\"\n\u001b[1;32m    888\u001b[0m         \u001b[0;32mwith\u001b[0m \u001b[0mSCCallSiteSync\u001b[0m\u001b[0;34m(\u001b[0m\u001b[0mself\u001b[0m\u001b[0;34m.\u001b[0m\u001b[0mcontext\u001b[0m\u001b[0;34m)\u001b[0m \u001b[0;32mas\u001b[0m \u001b[0mcss\u001b[0m\u001b[0;34m:\u001b[0m\u001b[0;34m\u001b[0m\u001b[0;34m\u001b[0m\u001b[0m\n\u001b[0;32m--> 889\u001b[0;31m             \u001b[0msock_info\u001b[0m \u001b[0;34m=\u001b[0m \u001b[0mself\u001b[0m\u001b[0;34m.\u001b[0m\u001b[0mctx\u001b[0m\u001b[0;34m.\u001b[0m\u001b[0m_jvm\u001b[0m\u001b[0;34m.\u001b[0m\u001b[0mPythonRDD\u001b[0m\u001b[0;34m.\u001b[0m\u001b[0mcollectAndServe\u001b[0m\u001b[0;34m(\u001b[0m\u001b[0mself\u001b[0m\u001b[0;34m.\u001b[0m\u001b[0m_jrdd\u001b[0m\u001b[0;34m.\u001b[0m\u001b[0mrdd\u001b[0m\u001b[0;34m(\u001b[0m\u001b[0;34m)\u001b[0m\u001b[0;34m)\u001b[0m\u001b[0;34m\u001b[0m\u001b[0;34m\u001b[0m\u001b[0m\n\u001b[0m\u001b[1;32m    890\u001b[0m         \u001b[0;32mreturn\u001b[0m \u001b[0mlist\u001b[0m\u001b[0;34m(\u001b[0m\u001b[0m_load_from_socket\u001b[0m\u001b[0;34m(\u001b[0m\u001b[0msock_info\u001b[0m\u001b[0;34m,\u001b[0m \u001b[0mself\u001b[0m\u001b[0;34m.\u001b[0m\u001b[0m_jrdd_deserializer\u001b[0m\u001b[0;34m)\u001b[0m\u001b[0;34m)\u001b[0m\u001b[0;34m\u001b[0m\u001b[0;34m\u001b[0m\u001b[0m\n\u001b[1;32m    891\u001b[0m \u001b[0;34m\u001b[0m\u001b[0m\n",
            "\u001b[0;32m/content/spark-3.0.1-bin-hadoop3.2/python/lib/py4j-0.10.9-src.zip/py4j/java_gateway.py\u001b[0m in \u001b[0;36m__call__\u001b[0;34m(self, *args)\u001b[0m\n\u001b[1;32m   1303\u001b[0m         \u001b[0manswer\u001b[0m \u001b[0;34m=\u001b[0m \u001b[0mself\u001b[0m\u001b[0;34m.\u001b[0m\u001b[0mgateway_client\u001b[0m\u001b[0;34m.\u001b[0m\u001b[0msend_command\u001b[0m\u001b[0;34m(\u001b[0m\u001b[0mcommand\u001b[0m\u001b[0;34m)\u001b[0m\u001b[0;34m\u001b[0m\u001b[0;34m\u001b[0m\u001b[0m\n\u001b[1;32m   1304\u001b[0m         return_value = get_return_value(\n\u001b[0;32m-> 1305\u001b[0;31m             answer, self.gateway_client, self.target_id, self.name)\n\u001b[0m\u001b[1;32m   1306\u001b[0m \u001b[0;34m\u001b[0m\u001b[0m\n\u001b[1;32m   1307\u001b[0m         \u001b[0;32mfor\u001b[0m \u001b[0mtemp_arg\u001b[0m \u001b[0;32min\u001b[0m \u001b[0mtemp_args\u001b[0m\u001b[0;34m:\u001b[0m\u001b[0;34m\u001b[0m\u001b[0;34m\u001b[0m\u001b[0m\n",
            "\u001b[0;32m/content/spark-3.0.1-bin-hadoop3.2/python/pyspark/sql/utils.py\u001b[0m in \u001b[0;36mdeco\u001b[0;34m(*a, **kw)\u001b[0m\n\u001b[1;32m    126\u001b[0m     \u001b[0;32mdef\u001b[0m \u001b[0mdeco\u001b[0m\u001b[0;34m(\u001b[0m\u001b[0;34m*\u001b[0m\u001b[0ma\u001b[0m\u001b[0;34m,\u001b[0m \u001b[0;34m**\u001b[0m\u001b[0mkw\u001b[0m\u001b[0;34m)\u001b[0m\u001b[0;34m:\u001b[0m\u001b[0;34m\u001b[0m\u001b[0;34m\u001b[0m\u001b[0m\n\u001b[1;32m    127\u001b[0m         \u001b[0;32mtry\u001b[0m\u001b[0;34m:\u001b[0m\u001b[0;34m\u001b[0m\u001b[0;34m\u001b[0m\u001b[0m\n\u001b[0;32m--> 128\u001b[0;31m             \u001b[0;32mreturn\u001b[0m \u001b[0mf\u001b[0m\u001b[0;34m(\u001b[0m\u001b[0;34m*\u001b[0m\u001b[0ma\u001b[0m\u001b[0;34m,\u001b[0m \u001b[0;34m**\u001b[0m\u001b[0mkw\u001b[0m\u001b[0;34m)\u001b[0m\u001b[0;34m\u001b[0m\u001b[0;34m\u001b[0m\u001b[0m\n\u001b[0m\u001b[1;32m    129\u001b[0m         \u001b[0;32mexcept\u001b[0m \u001b[0mpy4j\u001b[0m\u001b[0;34m.\u001b[0m\u001b[0mprotocol\u001b[0m\u001b[0;34m.\u001b[0m\u001b[0mPy4JJavaError\u001b[0m \u001b[0;32mas\u001b[0m \u001b[0me\u001b[0m\u001b[0;34m:\u001b[0m\u001b[0;34m\u001b[0m\u001b[0;34m\u001b[0m\u001b[0m\n\u001b[1;32m    130\u001b[0m             \u001b[0mconverted\u001b[0m \u001b[0;34m=\u001b[0m \u001b[0mconvert_exception\u001b[0m\u001b[0;34m(\u001b[0m\u001b[0me\u001b[0m\u001b[0;34m.\u001b[0m\u001b[0mjava_exception\u001b[0m\u001b[0;34m)\u001b[0m\u001b[0;34m\u001b[0m\u001b[0;34m\u001b[0m\u001b[0m\n",
            "\u001b[0;32m/content/spark-3.0.1-bin-hadoop3.2/python/lib/py4j-0.10.9-src.zip/py4j/protocol.py\u001b[0m in \u001b[0;36mget_return_value\u001b[0;34m(answer, gateway_client, target_id, name)\u001b[0m\n\u001b[1;32m    326\u001b[0m                 raise Py4JJavaError(\n\u001b[1;32m    327\u001b[0m                     \u001b[0;34m\"An error occurred while calling {0}{1}{2}.\\n\"\u001b[0m\u001b[0;34m.\u001b[0m\u001b[0;34m\u001b[0m\u001b[0;34m\u001b[0m\u001b[0m\n\u001b[0;32m--> 328\u001b[0;31m                     format(target_id, \".\", name), value)\n\u001b[0m\u001b[1;32m    329\u001b[0m             \u001b[0;32melse\u001b[0m\u001b[0;34m:\u001b[0m\u001b[0;34m\u001b[0m\u001b[0;34m\u001b[0m\u001b[0m\n\u001b[1;32m    330\u001b[0m                 raise Py4JError(\n",
            "\u001b[0;31mPy4JJavaError\u001b[0m: An error occurred while calling z:org.apache.spark.api.python.PythonRDD.collectAndServe.\n: org.apache.hadoop.mapred.InvalidInputException: Input path does not exist: file:/content/local/data/archivo_no_existe.txt\n\tat org.apache.hadoop.mapred.FileInputFormat.singleThreadedListStatus(FileInputFormat.java:297)\n\tat org.apache.hadoop.mapred.FileInputFormat.listStatus(FileInputFormat.java:239)\n\tat org.apache.hadoop.mapred.FileInputFormat.getSplits(FileInputFormat.java:325)\n\tat org.apache.spark.rdd.HadoopRDD.getPartitions(HadoopRDD.scala:205)\n\tat org.apache.spark.rdd.RDD.$anonfun$partitions$2(RDD.scala:276)\n\tat scala.Option.getOrElse(Option.scala:189)\n\tat org.apache.spark.rdd.RDD.partitions(RDD.scala:272)\n\tat org.apache.spark.rdd.MapPartitionsRDD.getPartitions(MapPartitionsRDD.scala:49)\n\tat org.apache.spark.rdd.RDD.$anonfun$partitions$2(RDD.scala:276)\n\tat scala.Option.getOrElse(Option.scala:189)\n\tat org.apache.spark.rdd.RDD.partitions(RDD.scala:272)\n\tat org.apache.spark.SparkContext.runJob(SparkContext.scala:2164)\n\tat org.apache.spark.rdd.RDD.$anonfun$collect$1(RDD.scala:1004)\n\tat org.apache.spark.rdd.RDDOperationScope$.withScope(RDDOperationScope.scala:151)\n\tat org.apache.spark.rdd.RDDOperationScope$.withScope(RDDOperationScope.scala:112)\n\tat org.apache.spark.rdd.RDD.withScope(RDD.scala:388)\n\tat org.apache.spark.rdd.RDD.collect(RDD.scala:1003)\n\tat org.apache.spark.api.python.PythonRDD$.collectAndServe(PythonRDD.scala:168)\n\tat org.apache.spark.api.python.PythonRDD.collectAndServe(PythonRDD.scala)\n\tat jdk.internal.reflect.GeneratedMethodAccessor48.invoke(Unknown Source)\n\tat java.base/jdk.internal.reflect.DelegatingMethodAccessorImpl.invoke(DelegatingMethodAccessorImpl.java:43)\n\tat java.base/java.lang.reflect.Method.invoke(Method.java:566)\n\tat py4j.reflection.MethodInvoker.invoke(MethodInvoker.java:244)\n\tat py4j.reflection.ReflectionEngine.invoke(ReflectionEngine.java:357)\n\tat py4j.Gateway.invoke(Gateway.java:282)\n\tat py4j.commands.AbstractCommand.invokeMethod(AbstractCommand.java:132)\n\tat py4j.commands.CallCommand.execute(CallCommand.java:79)\n\tat py4j.GatewayConnection.run(GatewayConnection.java:238)\n\tat java.base/java.lang.Thread.run(Thread.java:829)\n"
          ]
        }
      ]
    },
    {
      "cell_type": "markdown",
      "metadata": {
        "id": "eN1B7vzXbKa8"
      },
      "source": [
        "Ahora si se genera el error de que el archivo a cargar no existe"
      ]
    },
    {
      "cell_type": "markdown",
      "metadata": {
        "id": "EWkCqcDAgDX8"
      },
      "source": [
        "Veamos otro ejemplo ahora leyendo un archivo que si existe"
      ]
    },
    {
      "cell_type": "code",
      "metadata": {
        "id": "58M7ln_igHSC"
      },
      "source": [
        "textRdd = sc.textFile(\"local/data/animales.txt\")"
      ],
      "execution_count": null,
      "outputs": []
    },
    {
      "cell_type": "markdown",
      "metadata": {
        "id": "zNhFOojmm_ld"
      },
      "source": [
        "Veamos el contenido del RDD creado"
      ]
    },
    {
      "cell_type": "code",
      "metadata": {
        "id": "y82PV-VNm9qX"
      },
      "source": [
        "for line in textRdd:\n",
        "  print(line)\n"
      ],
      "execution_count": null,
      "outputs": []
    },
    {
      "cell_type": "markdown",
      "metadata": {
        "id": "MdkgqZAUnaM1"
      },
      "source": [
        "Porqué no podemos ver el contenido del RDD?"
      ]
    },
    {
      "cell_type": "markdown",
      "metadata": {
        "id": "F0OiqggKnh2F"
      },
      "source": [
        "La forma correcta sería convertir el RDD en una lista para que sea iterable y la pueda recorrer"
      ]
    },
    {
      "cell_type": "code",
      "metadata": {
        "id": "ck2sZPEbnrvZ"
      },
      "source": [
        "for line in textRdd.collect():\n",
        "  print(line)"
      ],
      "execution_count": null,
      "outputs": []
    },
    {
      "cell_type": "markdown",
      "metadata": {
        "id": "QxUN1MwAgcaV"
      },
      "source": [
        "Se puede ver que el archivo tiene 3 líneas.\n",
        "\n",
        "Ahora abra el archivo, agregue una nueva línea y volvamos a imprimirlo"
      ]
    },
    {
      "cell_type": "code",
      "metadata": {
        "id": "a0mX5whZgokM"
      },
      "source": [
        "textRdd.collect()"
      ],
      "execution_count": null,
      "outputs": []
    },
    {
      "cell_type": "markdown",
      "metadata": {
        "id": "DxqSCSkPg5Bv"
      },
      "source": [
        "**¿Que pasó?** Porque volvió a leer el archivo si ya lo había leído antes?"
      ]
    },
    {
      "cell_type": "markdown",
      "metadata": {
        "id": "kUPAU2_yhUb_"
      },
      "source": [
        "Vuelva a dejar el archivo con su contenido original"
      ]
    },
    {
      "cell_type": "markdown",
      "metadata": {
        "id": "AxwLYRmvoNX4"
      },
      "source": [
        "##**Operaciones**"
      ]
    },
    {
      "cell_type": "markdown",
      "metadata": {
        "id": "I1DnB9UGgGTF"
      },
      "source": [
        "Sobre un RDD se pueden ejecutar dos tipos de operaciones, a saber, transformaciones y acciones\n",
        "\n",
        "En este enlace puede encontrar más información sobre cada una de las transformaciones y acciones presentadas en este Notebook\n",
        "\n",
        "https://spark.apache.org/docs/latest/api/python/pyspark.html#pyspark.RDD"
      ]
    },
    {
      "cell_type": "markdown",
      "metadata": {
        "id": "ohzrJKJzRxTt"
      },
      "source": [
        "###**Transformaciones**\n",
        "Las transformaciones se ejecutan sobre un RDD y generan un nuevo RDD\n"
      ]
    },
    {
      "cell_type": "markdown",
      "metadata": {
        "id": "9-OMj1aCUB87"
      },
      "source": [
        "**map(func):** Entrega un nuevo conjunto de datos resultado de pasar cada elemento por la función indicada"
      ]
    },
    {
      "cell_type": "code",
      "metadata": {
        "id": "k09cl4RPUIpf"
      },
      "source": [
        "rdd = sc.parallelize([\"a\", \"b\", \"c\"])\n",
        "rdd.map(lambda x: (x, 1)).collect()"
      ],
      "execution_count": null,
      "outputs": []
    },
    {
      "cell_type": "markdown",
      "metadata": {
        "id": "2uyxsHLzUTMn"
      },
      "source": [
        "**filter(func):** Entrega un conjunto de datos con los elementos en los que la función retorne verdadero\n"
      ]
    },
    {
      "cell_type": "code",
      "metadata": {
        "id": "-pvKrVKsUqIm"
      },
      "source": [
        "rdd = sc.parallelize([1, 2, 3, 4, 5])\n",
        "rdd.filter(lambda x: x % 2 == 0).collect()"
      ],
      "execution_count": null,
      "outputs": []
    },
    {
      "cell_type": "markdown",
      "metadata": {
        "id": "M1CvoxvEYdnZ"
      },
      "source": [
        "Vamos a construir una función y la usamos como argumento de filter"
      ]
    },
    {
      "cell_type": "code",
      "metadata": {
        "id": "Vw0cww9JVJ2I"
      },
      "source": [
        "def par(x):\n",
        "  if x % 2==0:\n",
        "    return True\n",
        "  else:\n",
        "    return False"
      ],
      "execution_count": null,
      "outputs": []
    },
    {
      "cell_type": "code",
      "metadata": {
        "id": "gDpH7NGhYMro"
      },
      "source": [
        "par(4)"
      ],
      "execution_count": null,
      "outputs": []
    },
    {
      "cell_type": "code",
      "metadata": {
        "id": "Pf4KJtV5VnnI"
      },
      "source": [
        "rdd = sc.parallelize([1, 2, 3, 4, 5])\n",
        "rdd.filter(par).collect()"
      ],
      "execution_count": null,
      "outputs": []
    },
    {
      "cell_type": "markdown",
      "metadata": {
        "id": "yDz4l5_YrGE9"
      },
      "source": [
        "Y si el RDD contiene strings?"
      ]
    },
    {
      "cell_type": "code",
      "metadata": {
        "id": "Gusc0VixtaBl"
      },
      "source": [
        "rdd = sc.parallelize([\"La capital de Antioquia es Medellín\", \\\n",
        "                      \"La capital de Cundinamarca es Bogotá\", \\\n",
        "                      \"Bogotá tiene mas de 7 millones de habitantes\", \\\n",
        "                      \"Medellín tiene mas de 2 millones de habitantes\"])"
      ],
      "execution_count": null,
      "outputs": []
    },
    {
      "cell_type": "code",
      "metadata": {
        "id": "aTgeDvpVrVfh"
      },
      "source": [
        "\n",
        "medellin=rdd.filter(lambda x: \"Medellín\" in x)\n",
        "print(\"El número de regitros que contienen Medellín es\",medellin.count())\n",
        "medellin.collect()"
      ],
      "execution_count": null,
      "outputs": []
    },
    {
      "cell_type": "markdown",
      "metadata": {
        "id": "ncz0MmlDZV62"
      },
      "source": [
        "**flatMap(func):** Funciona similar al map. Devuelve un nuevo RDD aplicando primero una función a todos los elementos de este RDD y luego compactando los resultados."
      ]
    },
    {
      "cell_type": "code",
      "metadata": {
        "id": "XlqF6kmhZfYr"
      },
      "source": [
        "rdd = sc.parallelize([2, 3, 4])\n",
        "rdd.flatMap(lambda x: (x,x*x)).collect()"
      ],
      "execution_count": null,
      "outputs": []
    },
    {
      "cell_type": "markdown",
      "metadata": {
        "id": "GrIpsAQ0cD9e"
      },
      "source": [
        "**sample(withReplacement, fraction, seed):**\n",
        "Muestrea una fracción de los datos, con o sin reemplazo, usando una semilla generadora de números aleatorios"
      ]
    },
    {
      "cell_type": "code",
      "metadata": {
        "id": "ugrfchJScGMd"
      },
      "source": [
        "rdd = sc.parallelize(range(100))\n",
        "sample= rdd.sample(False, 0.1, 1)\n",
        "sample.collect()"
      ],
      "execution_count": null,
      "outputs": []
    },
    {
      "cell_type": "markdown",
      "metadata": {
        "id": "TVF0KlMCfazm"
      },
      "source": [
        "Qué pasa si no usamos la semilla?"
      ]
    },
    {
      "cell_type": "code",
      "metadata": {
        "id": "mfx5WB_Iffq9"
      },
      "source": [
        "sample= rdd.sample(False, 0.1)\n",
        "sample.collect()"
      ],
      "execution_count": null,
      "outputs": []
    },
    {
      "cell_type": "markdown",
      "metadata": {
        "id": "b4FJzcOCgdqd"
      },
      "source": [
        "**union(otherDataset):** Entrega un nuevo conjunto de datos que incluye los datos actuales y los que se pasen como argumento\n",
        "\n"
      ]
    },
    {
      "cell_type": "code",
      "metadata": {
        "id": "GnpokMVMgqK9"
      },
      "source": [
        "a=sc.parallelize([1, 3, 5, 7, 9])\n",
        "b=sc.parallelize([0, 2, 4, 6, 8])\n",
        "a.union(b).collect()\n"
      ],
      "execution_count": null,
      "outputs": []
    },
    {
      "cell_type": "markdown",
      "metadata": {
        "id": "DE78htPxhWmM"
      },
      "source": [
        "**intersection(otherDataset):** Entrega un nuevo conjunto de datos formado por la intersección entre el conjunto de datos actual y el que se pasa como argumento \n"
      ]
    },
    {
      "cell_type": "code",
      "metadata": {
        "id": "GcGOLQhtha4k"
      },
      "source": [
        "a=sc.parallelize([0, 2, 4, 6, 8])\n",
        "b=sc.parallelize([6, 8, 10, 12, 14])\n",
        "a.intersection(b).collect()"
      ],
      "execution_count": null,
      "outputs": []
    },
    {
      "cell_type": "markdown",
      "metadata": {
        "id": "SAxpPAE3htuO"
      },
      "source": [
        "**distinct():** Entrega un nuevo conjunto de datos formado por los elementos diferentes del conjunto de datos actual\n"
      ]
    },
    {
      "cell_type": "code",
      "metadata": {
        "id": "oZvQplwuh59F"
      },
      "source": [
        "a=sc.parallelize([3, 1, 1, 0, 2, 3, 2, 0, 0, 1, 1])\n",
        "b=a.distinct()\n",
        "b.collect()"
      ],
      "execution_count": null,
      "outputs": []
    },
    {
      "cell_type": "markdown",
      "metadata": {
        "id": "zxyeWoAKineN"
      },
      "source": [
        "**groupByKey():** Recibe un conjunto tuplas (clave valor), y entrega un nuevo conjunto de tuplas (clave, Iterable[valores] )\n",
        "\n"
      ]
    },
    {
      "cell_type": "code",
      "metadata": {
        "id": "pnPKqZ6Nj0JH"
      },
      "source": [
        "rdd = sc.parallelize([(\"a\", 1), (\"b\", 1), (\"a\", 2), (\"b\", 6), (\"a\", 3), (\"c\", 5)])\n",
        "gbk=rdd.groupByKey()\n",
        "gbk.collect()"
      ],
      "execution_count": null,
      "outputs": []
    },
    {
      "cell_type": "markdown",
      "metadata": {
        "id": "wTezUASold0S"
      },
      "source": [
        "Con la función mapValues podemos obtener información sobre el contenido de ese iterable de los valores.\n",
        "\n",
        "Si le pasamos como argumento len nos dirá el tamaño del iterable"
      ]
    },
    {
      "cell_type": "code",
      "metadata": {
        "id": "WvaZZ1YtlByc"
      },
      "source": [
        "gbk.mapValues(len).collect()"
      ],
      "execution_count": null,
      "outputs": []
    },
    {
      "cell_type": "markdown",
      "metadata": {
        "id": "C8eN8aMtlzvU"
      },
      "source": [
        "Si le pasamos como argumento list nos entregará la lista de valores"
      ]
    },
    {
      "cell_type": "code",
      "metadata": {
        "id": "IKLEMktSke1s"
      },
      "source": [
        "gbk.mapValues(list).collect()"
      ],
      "execution_count": null,
      "outputs": []
    },
    {
      "cell_type": "markdown",
      "metadata": {
        "id": "KH0osF7ymXsc"
      },
      "source": [
        "**reduceByKey(func):** Recibe un conjunto de tuplas (clave, valor) y devuelve un nuevo conjunto de tuplas con la clave y la reducción de los valores por clave según la función que se pase como argumento\n"
      ]
    },
    {
      "cell_type": "code",
      "metadata": {
        "id": "02_T_3s_mvZk"
      },
      "source": [
        "from operator import add\n",
        "rdd = sc.parallelize([(\"a\", 1), (\"b\", 1), (\"a\", 2), (\"b\", 6), (\"a\", 3), (\"c\", 5)])\n",
        "rdd.reduceByKey(add).collect()"
      ],
      "execution_count": null,
      "outputs": []
    },
    {
      "cell_type": "markdown",
      "metadata": {
        "id": "6vig9gaBnFuA"
      },
      "source": [
        "Cuando trabajamos con datos numéricos podemos utilizar operadores predefinidos por Spark, como es el caso del operador add que se encarga de sumar los valores.\n"
      ]
    },
    {
      "cell_type": "markdown",
      "metadata": {
        "id": "QVVoTy6nsIMT"
      },
      "source": [
        "**sortByKey(type):** Entrega un conjunto de tuplas clave valor ordenados ascendente o descendentemente según se solicite\n"
      ]
    },
    {
      "cell_type": "code",
      "metadata": {
        "id": "xOkmT-BKsKXC"
      },
      "source": [
        "rdd = sc.parallelize([(\"a\", 1), (\"b\", 1), (\"a\", 2), (\"b\", 6), (\"a\", 3), (\"c\", 5)])\n",
        "rdd.sortByKey().collect()"
      ],
      "execution_count": null,
      "outputs": []
    },
    {
      "cell_type": "markdown",
      "metadata": {
        "id": "-yCPMZQksvjz"
      },
      "source": [
        "Por defecto se ordena de manera ascendente, que también puede ser indicado enviando True como argumento.\n",
        "\n",
        "Para ordenar descendentemente enviamos False como parámetro"
      ]
    },
    {
      "cell_type": "code",
      "metadata": {
        "id": "EsNLEiPAtCMR"
      },
      "source": [
        "rdd = sc.parallelize([(\"a\", 1), (\"b\", 1), (\"a\", 2), (\"b\", 6), (\"a\", 3), (\"c\", 5)])\n",
        "rdd.sortByKey(False).collect()"
      ],
      "execution_count": null,
      "outputs": []
    },
    {
      "cell_type": "markdown",
      "metadata": {
        "id": "GbKFM0h-tcB2"
      },
      "source": [
        "Y en caso que las claves puedan ser números y letras como se ordena?"
      ]
    },
    {
      "cell_type": "code",
      "metadata": {
        "id": "xop_udZttwCy"
      },
      "source": [
        "rdd = sc.parallelize([('a', 1), ('b', 2), ('1', 3), ('d', 4), ('2', 5)])\n",
        "rdd.sortByKey(True).collect()"
      ],
      "execution_count": null,
      "outputs": []
    },
    {
      "cell_type": "markdown",
      "metadata": {
        "id": "uHWjBqokuanS"
      },
      "source": [
        "**join(otherDataset):** A partir de tuplas (K,V) y (K,W) entrega como resultado tuplas (K,(V,W))\n",
        "\n",
        "\n"
      ]
    },
    {
      "cell_type": "code",
      "metadata": {
        "id": "2MYnCkC1ueFk"
      },
      "source": [
        "x = sc.parallelize([(\"a\", 1),(\"a\", 2), (\"b\", 4)])\n",
        "y = sc.parallelize([(\"a\", 5), (\"a\", 6),(\"a\", 7)])\n",
        "x.join(y).collect()"
      ],
      "execution_count": null,
      "outputs": []
    },
    {
      "cell_type": "markdown",
      "metadata": {
        "id": "V3gV0RhxvozD"
      },
      "source": [
        "**cogroup(otherDataset):** A partir de conjuntos de datos (K,V) y (K,W) entrega un conjunto de datos de tipo (K, Iterable<V>, Iterable<W>)\n"
      ]
    },
    {
      "cell_type": "code",
      "metadata": {
        "id": "Orl-pbu9vudB"
      },
      "source": [
        "x = sc.parallelize([(\"a\", 1), (\"b\", 4)])\n",
        "y = sc.parallelize([(\"a\", 2)])\n",
        "z=x.cogroup(y)\n",
        "z.mapValues(list).collect()"
      ],
      "execution_count": null,
      "outputs": []
    },
    {
      "cell_type": "markdown",
      "metadata": {
        "id": "LUdgRZ4LRt09"
      },
      "source": [
        "###**Acciones**\n",
        "\n",
        "Las acciones se aplican sobre un conjunto de datos y devuelven un valor o un nuevo conjunto de datos\t\n"
      ]
    },
    {
      "cell_type": "markdown",
      "metadata": {
        "id": "ViwK0iDvzKFt"
      },
      "source": [
        "**reduce(func):** Agrega los elementos de un conjunto de datos aplicando sobre ellos una función\n",
        "\n"
      ]
    },
    {
      "cell_type": "code",
      "metadata": {
        "id": "mAIRLGYezUWb"
      },
      "source": [
        "from operator import add\n",
        "rdd=sc.parallelize([1, 2, 3, 4, 5])\n",
        "rdd.reduce(add)"
      ],
      "execution_count": null,
      "outputs": []
    },
    {
      "cell_type": "markdown",
      "metadata": {
        "id": "QLD5ABsIztoL"
      },
      "source": [
        "Porqué ya no es necesario usar collect()?"
      ]
    },
    {
      "cell_type": "markdown",
      "metadata": {
        "id": "EKhF-7abzzpo"
      },
      "source": [
        "**Collect():** Devuelve todos los elementos del conjunto de datos"
      ]
    },
    {
      "cell_type": "markdown",
      "metadata": {
        "id": "hCk-VKcq0wLJ"
      },
      "source": [
        "**count():** Entrega el número de elementos disponibles en el conjunto de datos\n",
        "\n",
        "\n",
        "\n"
      ]
    },
    {
      "cell_type": "code",
      "metadata": {
        "id": "bVF6QsCM0A-5"
      },
      "source": [
        "sc.parallelize([1, 2, 3, 4, 5]).count()"
      ],
      "execution_count": null,
      "outputs": []
    },
    {
      "cell_type": "markdown",
      "metadata": {
        "id": "w_jBIc7p1P2M"
      },
      "source": [
        "**First():** Entrega el primer elemento del conjunto de datos\n",
        "\n"
      ]
    },
    {
      "cell_type": "code",
      "metadata": {
        "id": "RY4kX-o31R1u"
      },
      "source": [
        "sc.parallelize([1, 2, 3, 4, 5]).first()"
      ],
      "execution_count": null,
      "outputs": []
    },
    {
      "cell_type": "markdown",
      "metadata": {
        "id": "XyFirj6a1kSt"
      },
      "source": [
        "**Take(n):** Entrega los primeros n elementos del conjunto de datos\n",
        "\n"
      ]
    },
    {
      "cell_type": "code",
      "metadata": {
        "id": "pNRvntPp1nFg"
      },
      "source": [
        "sc.parallelize([1, 2, 3, 4, 5]).take(3)"
      ],
      "execution_count": null,
      "outputs": []
    },
    {
      "cell_type": "markdown",
      "metadata": {
        "id": "AZeRocRndS23"
      },
      "source": [
        "**TakeOrdered(n):** Entrega los primeros n elementos del conjunto de datos ordenados"
      ]
    },
    {
      "cell_type": "code",
      "metadata": {
        "id": "-Y6npAkUdhb9"
      },
      "source": [
        "sc.parallelize([5, 3, 1, 4, 2]).takeOrdered(3)"
      ],
      "execution_count": null,
      "outputs": []
    },
    {
      "cell_type": "markdown",
      "metadata": {
        "id": "yYBAOUljd0OV"
      },
      "source": [
        "podemos utilizar un parámetro adicional que sería una función que realizaría el ordenamiento. takeOrdered(n,func)"
      ]
    },
    {
      "cell_type": "markdown",
      "metadata": {
        "id": "68MkiRnZ17SI"
      },
      "source": [
        "**saveAsTextFile(path):** Almacena el conjunto de datos en un archivo de texto en la ruta path\n",
        "\n"
      ]
    },
    {
      "cell_type": "code",
      "metadata": {
        "id": "Dt8bLAYh2JCR"
      },
      "source": [
        "x = sc.parallelize([(\"a\", 1),(\"a\", 2), (\"b\", 4)])\n",
        "x.saveAsTextFile(\"local/data/ejemplo1\")"
      ],
      "execution_count": null,
      "outputs": []
    },
    {
      "cell_type": "markdown",
      "metadata": {
        "id": "7ENkqa6U3Cgh"
      },
      "source": [
        "**countByKey():** Devuelve un conjunto de datos representado por tuplas clave, valor. Donde el valor entregado será la suma de los elementos de la misma clave\n",
        "\n"
      ]
    },
    {
      "cell_type": "code",
      "metadata": {
        "id": "0-ZwoTgw3Lx1"
      },
      "source": [
        "rdd = sc.parallelize([(\"a\", 1), (\"b\", 1), (\"a\", 2), (\"b\", 6), (\"a\", 3), (\"c\", 5)])\n",
        "rdd.countByKey()"
      ],
      "execution_count": null,
      "outputs": []
    },
    {
      "cell_type": "markdown",
      "metadata": {
        "id": "yzvAe9WY3lCK"
      },
      "source": [
        "**Foreach(func):** Ejecuta la función indicada en cada elemento del conjunto de datos\n",
        "\n"
      ]
    },
    {
      "cell_type": "code",
      "metadata": {
        "id": "0d2o9YRGaP86"
      },
      "source": [
        "rdd=sc.parallelize([1, 2, 3, 4, 5])"
      ],
      "execution_count": null,
      "outputs": []
    },
    {
      "cell_type": "code",
      "metadata": {
        "id": "0ekE8YfLaj8C"
      },
      "source": [
        "def impar(x):\n",
        "  if x % 2 ==1:\n",
        "    print(\"%d es impar\" %x)"
      ],
      "execution_count": null,
      "outputs": []
    },
    {
      "cell_type": "code",
      "metadata": {
        "id": "8uEHxbSTa0Uh"
      },
      "source": [
        "rdd.foreach(impar)"
      ],
      "execution_count": null,
      "outputs": []
    },
    {
      "cell_type": "markdown",
      "metadata": {
        "id": "UNULTTvJOzJx"
      },
      "source": [
        "##**Persistencia**"
      ]
    },
    {
      "cell_type": "markdown",
      "metadata": {
        "id": "0wx8vjimhtuj"
      },
      "source": [
        "Teniendo en cuenta que la operación de los RDD es perezosa, la persistencia permite almacenar los RDD después de la primera vez que se calculan\tcon el fin de que las operaciones futuras se realicen mucho mas rápido\n",
        "\n",
        "Almacenar los datos en cache es clave para algoritmos iterativos\n",
        "\n",
        "Para persistir un RDD se utilizan los métodos: cache (persistir en memoria), persist (permite seleccionar el tipo de persistencia)\n",
        "\n"
      ]
    },
    {
      "cell_type": "markdown",
      "metadata": {
        "id": "PT31NMJWh50k"
      },
      "source": [
        "Veamos un ejemplo de persistencia.\n",
        "* Carguemos el archivo animales.txt\n",
        "* Apliquemos una persistencia\n",
        "* Veamos su contenido\n",
        "* Modifiquemos el contenido del archivo animales.txt\n",
        "* Veamos nuevamente el contenido del archivo"
      ]
    },
    {
      "cell_type": "code",
      "metadata": {
        "id": "s4_cYEWfiaOA"
      },
      "source": [
        "textRdd = sc.textFile(\"local/data/animales.txt\")\n",
        "textRdd.cache()\n",
        "textRdd.collect()"
      ],
      "execution_count": null,
      "outputs": []
    },
    {
      "cell_type": "markdown",
      "metadata": {
        "id": "JsuPXEBtifgk"
      },
      "source": [
        "Agreguemos una línea al archivo y volvamos a imprimirlo"
      ]
    },
    {
      "cell_type": "code",
      "metadata": {
        "id": "VNJ8VeUmilME"
      },
      "source": [
        "textRdd.collect()"
      ],
      "execution_count": null,
      "outputs": []
    },
    {
      "cell_type": "markdown",
      "metadata": {
        "id": "UrsVtChFjnj1"
      },
      "source": [
        "Porque **no se da cuenta** que el archivo se actualizó?"
      ]
    },
    {
      "cell_type": "markdown",
      "metadata": {
        "id": "nHrPk9kuTGmL"
      },
      "source": [
        "para persistir un RDD podemos utilizar la función cache() que realizará persistencia en memoria.\n",
        "\n",
        "Si queremos aplicar otro tipo de persistencia podemos aplicar la función persist(type) donde podemos indicar que tipo de persistencia queremos aplicar\n",
        "* MEMORY_ONLY: Es el nivel por defecto. Se almacenan en memoria como objetos Java\n",
        "\n",
        "* MEMORY_AND_DISK: Almacena en memoria y en caso de que requiera mas espacio almacenará las particiones restantes en disco\n",
        "\n",
        "* DISK_ONLY: Almacena solo en disco\n",
        "\n",
        "\n",
        "Spark maneja automáticamente los recursos y dejará de persistir RDDs inactivos si requiere memoria. \n",
        "\n",
        "Adicionalmente es posible dejar de pesistir con la función unpersist()\n",
        "\n",
        "Podemos consultar la persistencia de un RDD con la propiedad is_cached\n",
        "\n"
      ]
    },
    {
      "cell_type": "markdown",
      "metadata": {
        "id": "GH8TBVtfjx6r"
      },
      "source": [
        "La persistencia tiene grandes implicaciones en los tiempos de ejecución de un programa. Si se desea utilizar constantemente un mismo RDD, hacerlo persistente ayudará a que no sea necesario recalcular las transformaciones.\n",
        "\n",
        "Veamos los tiempos de ejecución aplicando operaciones matemáticas sobre RDD.\n",
        "Vamos a tomar los números del 0 al 1000, los elevamos al cuadrado y sumamos el resultado"
      ]
    },
    {
      "cell_type": "code",
      "metadata": {
        "id": "O-c-PlmRyn75"
      },
      "source": [
        "rdd=sc.parallelize(range(1000))\n",
        "rdd=rdd.map(lambda x: x*x)\n",
        "%time print (\"la suma del cuadrado de los números del 0 al 1000 es: \", rdd.sum())"
      ],
      "execution_count": null,
      "outputs": []
    },
    {
      "cell_type": "markdown",
      "metadata": {
        "id": "PlLeVQJrlRdM"
      },
      "source": [
        "Cada vez que va a mostrar el resultado debe volver a construir el rdd2.\n"
      ]
    },
    {
      "cell_type": "code",
      "metadata": {
        "id": "wEh_osyqVwFY"
      },
      "source": [
        "%time print (\"la suma del cuadrado de los números del 0 al 1000 es: \", rdd.sum())"
      ],
      "execution_count": null,
      "outputs": []
    },
    {
      "cell_type": "code",
      "metadata": {
        "id": "oq2mBBs2goxq"
      },
      "source": [
        "rdd.is_cached"
      ],
      "execution_count": null,
      "outputs": []
    },
    {
      "cell_type": "markdown",
      "metadata": {
        "id": "IRedCjSUSb2n"
      },
      "source": [
        "Ahora apliquemos persistencia"
      ]
    },
    {
      "cell_type": "code",
      "metadata": {
        "id": "23vFVN0Hd_9w"
      },
      "source": [
        "rdd.cache()\n",
        "rdd.take(5)"
      ],
      "execution_count": null,
      "outputs": []
    },
    {
      "cell_type": "code",
      "metadata": {
        "id": "DyaOvydoeMIA"
      },
      "source": [
        "rdd.is_cached"
      ],
      "execution_count": null,
      "outputs": []
    },
    {
      "cell_type": "code",
      "metadata": {
        "id": "G5G_d8a3lkTw"
      },
      "source": [
        "%time print (\"la suma del cuadrado de los números del 0 al 1000 es: \", rdd.sum())"
      ],
      "execution_count": null,
      "outputs": []
    },
    {
      "cell_type": "code",
      "metadata": {
        "id": "l9Tx6T4LeY6Y"
      },
      "source": [
        "rdd.unpersist()"
      ],
      "execution_count": null,
      "outputs": []
    },
    {
      "cell_type": "code",
      "metadata": {
        "id": "XW2T1X6gehoo"
      },
      "source": [
        "rdd.is_cached"
      ],
      "execution_count": null,
      "outputs": []
    },
    {
      "cell_type": "markdown",
      "metadata": {
        "id": "kAD5B6CRpDHp"
      },
      "source": [
        "##**Variables Compartidas**"
      ]
    },
    {
      "cell_type": "markdown",
      "metadata": {
        "id": "LrBfFKoxptwP"
      },
      "source": [
        "Cuando paralelizamos un variable, esta es dividida en fragmentos y cada uno de esos fragmentos es repartido entre los nodos del clúster, esto significa que los nodos no tienen los mismos datos excepto por los fragmentos coincidentes en las réplicas.\n",
        "\n",
        "Los resultados intermedios generados por las transformaciones realizadas por cada nodo no son compartidos a los demás nodos, esto quiere decir que son resultados locales que no se transmiten.\n",
        "\n",
        "En algunos casos puede ser importante disponer de un método que envíe a todos los nodos algún dato crucial para que se tenga en cuenta durante los cálculos a realizar, es decir, utilizar variables compartidas. Para esto Spark dispone de dos formas de compartir variables: broadcast y acumuladores"
      ]
    },
    {
      "cell_type": "markdown",
      "metadata": {
        "id": "LmDQNGbppMOH"
      },
      "source": [
        "###**Broadcast**"
      ]
    },
    {
      "cell_type": "markdown",
      "metadata": {
        "id": "hObxApgurXDR"
      },
      "source": [
        "Los broadcast o variables difundidas son variables de solo lectura que se transmiten a todos los nodos del clúster. Esto será de gran ayuda cuando el cálculo realizado por cada nodo requiere tener en cuenta el valor de la variable a compartir.\n",
        "\n",
        "Utilizando el método broadcast del SparkContext podemos difundir una variable"
      ]
    },
    {
      "cell_type": "code",
      "metadata": {
        "id": "EUHHPwGhsOMP"
      },
      "source": [
        "num= [1, 2, 3, 4, 5]\n",
        "numBcast=sc.broadcast(num)\n",
        "numBcast.value"
      ],
      "execution_count": null,
      "outputs": []
    },
    {
      "cell_type": "markdown",
      "metadata": {
        "id": "swFu0KvXpnRH"
      },
      "source": [
        "###**Acumuladores**"
      ]
    },
    {
      "cell_type": "markdown",
      "metadata": {
        "id": "_k9z8lh4ubSf"
      },
      "source": [
        "A diferencia de los broadcast que solo se pueden leer, los acumuladores pueden ser operados, es decir que cada nodo puede modificar el valor en el que se inicializa el acumulador."
      ]
    },
    {
      "cell_type": "code",
      "metadata": {
        "id": "ZE9ppsexuvYV"
      },
      "source": [
        "from operator import add\n",
        "suma = sc.accumulator(0)\n",
        "rdd= sc.parallelize([1,2,3,4,5])\n",
        "rdd.foreach(lambda x: suma.add(x))\n",
        "\n",
        "print(\"La suma es\", suma.value)"
      ],
      "execution_count": null,
      "outputs": []
    },
    {
      "cell_type": "markdown",
      "metadata": {
        "id": "WxFdx6lhA6xA"
      },
      "source": [
        "Podemos utilizar simultáneamente variables compartidas broadcast y acumuladores\n",
        "\n",
        "Teniendo un RDD que contiene los números del 0 al 10, vamos a contar (acumulador) cuantos de ellos son menores que n (broadcast)"
      ]
    },
    {
      "cell_type": "code",
      "metadata": {
        "id": "3MFHz3eeBIHn"
      },
      "source": [
        "rdd=sc.parallelize([0,1,2,3,4,5,6,7,8,9,10])\n",
        "n=sc.broadcast(x)\n",
        "an=sc.accumulator(0)\n",
        "rdd.collect()"
      ],
      "execution_count": null,
      "outputs": []
    },
    {
      "cell_type": "markdown",
      "metadata": {
        "id": "O2PNSv3ABG3i"
      },
      "source": [
        "Creemos una función map que nos ayude en el proceso"
      ]
    },
    {
      "cell_type": "code",
      "metadata": {
        "id": "HzkL5W38Cwdq"
      },
      "source": [
        "def menorN(x) :\n",
        "  global an\n",
        "  if x < 5:\n",
        "    an.add(1)\n",
        "    return (x,\"SI\")\n",
        "  else:\n",
        "    return (x,\"NO\")"
      ],
      "execution_count": null,
      "outputs": []
    },
    {
      "cell_type": "markdown",
      "metadata": {
        "id": "iItHaw4I6yV2"
      },
      "source": [
        "Con una función map recorremos la lista de valores del RDD para contar cuantos cumplen la condición y generamos una tupla de salida cuyo valor indica el cumplimiento de la condición"
      ]
    },
    {
      "cell_type": "code",
      "metadata": {
        "id": "m2ZZo4mhDbJ-"
      },
      "source": [
        "mn=rdd.map(menorN).collect()\n",
        "print(\"En el RDD el total de números menores que n es:\", an.value)\n"
      ],
      "execution_count": null,
      "outputs": []
    },
    {
      "cell_type": "code",
      "metadata": {
        "id": "3RBC4IO84CNW"
      },
      "source": [
        "display(mn)"
      ],
      "execution_count": null,
      "outputs": []
    },
    {
      "cell_type": "markdown",
      "metadata": {
        "id": "HNoN6dKdR-XN"
      },
      "source": [
        "#**Ejemplos**"
      ]
    },
    {
      "cell_type": "markdown",
      "metadata": {
        "id": "x9cizB3jhscK"
      },
      "source": [
        "###**Palabras más frecuentes en una obra de literatura**"
      ]
    },
    {
      "cell_type": "markdown",
      "metadata": {
        "id": "S-TpEpWHnuka"
      },
      "source": [
        "Cuáles son las 10 palabras más frecuentes de la obra de literatura Hamlet"
      ]
    },
    {
      "cell_type": "code",
      "metadata": {
        "id": "Oz8BOayISMz1"
      },
      "source": [
        "!wget --no-cache -O local/data/hamlet.txt -q http://www.gutenberg.org/cache/epub/56454/pg56454.txt"
      ],
      "execution_count": null,
      "outputs": []
    },
    {
      "cell_type": "code",
      "metadata": {
        "id": "DCdooWW5lJkU"
      },
      "source": [
        "hamlet = sc.textFile(\"local/data/hamlet.txt\")\n",
        "counts = hamlet.flatMap(lambda line: line.split(\" \")) \\\n",
        "             .map(lambda word: (word, 1)) \\\n",
        "             .reduceByKey(lambda a, b: a + b)\n",
        "top = counts.sortBy(lambda v: -v[1]).take(10)\n",
        "for p in top:\n",
        "\tprint (p[0] + \": %d\" % p[1])\n"
      ],
      "execution_count": null,
      "outputs": []
    },
    {
      "cell_type": "markdown",
      "metadata": {
        "id": "R2b4x_Nndl_u"
      },
      "source": [
        "lo que más se repite es el caracter vacío. \n",
        "\n",
        "Otro problema es que palabras como; \"De\" y \"de\" son diferentes\n",
        "\n",
        "Cómo lo solucionamos?"
      ]
    },
    {
      "cell_type": "code",
      "metadata": {
        "id": "KShiO6GtcRPc"
      },
      "source": [
        "hamlet = sc.textFile(\"local/data/hamlet.txt\")\n",
        "\n",
        "counts = hamlet.flatMap(lambda line: line.split(\" \")) \\\n",
        "      .filter(lambda x: x != '') \\\n",
        "      .map(lambda x: x.lower()) \\\n",
        "      .map(lambda word: (word, 1)) \\\n",
        "      .reduceByKey(lambda a, b: a + b)\n",
        "\n",
        "top = counts.sortBy(lambda v: -v[1]).take(10)\n",
        "\n",
        "for p in top:\n",
        "\tprint (p[0] + \": %d\" % p[1])"
      ],
      "execution_count": null,
      "outputs": []
    },
    {
      "cell_type": "markdown",
      "metadata": {
        "id": "kUwYWJPigxIi"
      },
      "source": [
        "Cuáles son las diferencias entre los dos resultados obtenidos?"
      ]
    },
    {
      "cell_type": "markdown",
      "metadata": {
        "id": "TqKJHt2G8LTh"
      },
      "source": [
        "Y cuáles serán las palabras que menos se repiten?"
      ]
    },
    {
      "cell_type": "code",
      "metadata": {
        "id": "pSvGmcAI8U4h"
      },
      "source": [
        "top = counts.sortBy(lambda v: v[1]).take(10)\n",
        "\n",
        "for p in top:\n",
        "\tprint (p[0] + \": %d\" % p[1])"
      ],
      "execution_count": null,
      "outputs": []
    },
    {
      "cell_type": "markdown",
      "metadata": {
        "id": "EhuTXmnUh8sA"
      },
      "source": [
        "###**Titanic**"
      ]
    },
    {
      "cell_type": "markdown",
      "metadata": {
        "id": "MPKd_3cvU389"
      },
      "source": [
        "El archivo titanic.csv recoge la información de los 2201 pasajeros del titanic. Para cada pasajero se dispone de la siguiente información.\n",
        "\n",
        "* Clase: Tripulación, Primera, Segunda, Tercera\n",
        "* Edad: Adulto, Niño\n",
        "* Sexo: Hombre, Mujer\n",
        "* Sobrevivió: Si, No"
      ]
    },
    {
      "cell_type": "code",
      "metadata": {
        "id": "2ba8C3KWTetB"
      },
      "source": [
        "file = sc.textFile(\"local/data/titanic.csv\")\n",
        "file.take(5)"
      ],
      "execution_count": null,
      "outputs": []
    },
    {
      "cell_type": "code",
      "metadata": {
        "id": "YnobNWhSg8B6"
      },
      "source": [
        "header = file.first()\n",
        "data = file.filter(lambda row: row != header)\n",
        "data.take(5) "
      ],
      "execution_count": null,
      "outputs": []
    },
    {
      "cell_type": "markdown",
      "metadata": {
        "id": "77yqo4NFYJ_-"
      },
      "source": [
        "Usemos como clave la variable Clase para crear rdd que relacionen la clase con cada una de las demás variables"
      ]
    },
    {
      "cell_type": "code",
      "metadata": {
        "id": "xiLnlYv-YTOS"
      },
      "source": [
        "def rddEdad(a):\n",
        "    data=a.split(\";\")\n",
        "    return (data[0], data[1])"
      ],
      "execution_count": null,
      "outputs": []
    },
    {
      "cell_type": "code",
      "metadata": {
        "id": "WoSWBRbqYcTE"
      },
      "source": [
        "def rddSexo(a):\n",
        "    data=a.split(\";\")\n",
        "    return (data[0], data[2])"
      ],
      "execution_count": null,
      "outputs": []
    },
    {
      "cell_type": "code",
      "metadata": {
        "id": "57hXgp-rYfUG"
      },
      "source": [
        "def rddSobrevivio(a):\n",
        "    data=a.split(\";\")\n",
        "    return (data[0], data[3])"
      ],
      "execution_count": null,
      "outputs": []
    },
    {
      "cell_type": "code",
      "metadata": {
        "id": "ia5pw_rSYmRV"
      },
      "source": [
        "edad=data.map(rddEdad)\n",
        "edad.take(5)"
      ],
      "execution_count": null,
      "outputs": []
    },
    {
      "cell_type": "code",
      "metadata": {
        "id": "MeFD2mhOYqih"
      },
      "source": [
        "sexo=data.map(rddSexo)\n",
        "sexo.take(5)"
      ],
      "execution_count": null,
      "outputs": []
    },
    {
      "cell_type": "code",
      "metadata": {
        "id": "djDLILpebo-e"
      },
      "source": [
        "sobrevivio=data.map(rddSobrevivio)\n",
        "sobrevivio.take(5)"
      ],
      "execution_count": null,
      "outputs": []
    },
    {
      "cell_type": "code",
      "metadata": {
        "id": "shY_6var2orp"
      },
      "source": [
        "sobrevivio.distinct().collect()"
      ],
      "execution_count": null,
      "outputs": []
    },
    {
      "cell_type": "markdown",
      "metadata": {
        "id": "8hCJPAmiegkn"
      },
      "source": [
        "**Cuántos pasajeros sobrevivieron por clase?**"
      ]
    },
    {
      "cell_type": "code",
      "metadata": {
        "id": "wX1sDTvYejcM"
      },
      "source": [
        "from operator import add\n",
        "sob=sobrevivio.map(lambda d: (d[0], 1 if d[1]==\"Si\" else 0))\n",
        "num=sob.reduceByKey(add)\n",
        "num.collect()"
      ],
      "execution_count": null,
      "outputs": []
    },
    {
      "cell_type": "markdown",
      "metadata": {
        "id": "rNB8XeeJlI_g"
      },
      "source": [
        "Y cómo contamos los que no sobrevivieron?"
      ]
    },
    {
      "cell_type": "code",
      "metadata": {
        "id": "0ez44m_UlVNC"
      },
      "source": [
        "a=sobrevivio.countByValue().items()\n"
      ],
      "execution_count": null,
      "outputs": []
    },
    {
      "cell_type": "code",
      "metadata": {
        "id": "OVU5c5h5ambm"
      },
      "source": [
        "list(a)[0]"
      ],
      "execution_count": null,
      "outputs": []
    },
    {
      "cell_type": "code",
      "metadata": {
        "id": "0b6P4pESb8c1"
      },
      "source": [
        "list(a)[0][0]"
      ],
      "execution_count": null,
      "outputs": []
    },
    {
      "cell_type": "code",
      "metadata": {
        "id": "eqj9qwjFcADu"
      },
      "source": [
        "list(a)[0][0][0]"
      ],
      "execution_count": null,
      "outputs": []
    },
    {
      "cell_type": "code",
      "metadata": {
        "id": "gQFRu3lUar-0"
      },
      "source": [
        "a.items()"
      ],
      "execution_count": null,
      "outputs": []
    },
    {
      "cell_type": "markdown",
      "metadata": {
        "id": "Ot82PGQi_K_x"
      },
      "source": [
        "Calculemos el promedio de sobrevivientes por clase"
      ]
    },
    {
      "cell_type": "code",
      "metadata": {
        "id": "PQHVwXb8_O43"
      },
      "source": [
        "sobrevivio.distinct().collect()"
      ],
      "execution_count": null,
      "outputs": []
    },
    {
      "cell_type": "markdown",
      "metadata": {
        "id": "HG27wHYDAlZZ"
      },
      "source": [
        "Creemos un RDD que permita contar los registros de cada clase y los registros de cada clase que sobrevivieron"
      ]
    },
    {
      "cell_type": "code",
      "metadata": {
        "id": "EqBAjskC_Wnr"
      },
      "source": [
        "contsob=sobrevivio.mapValues(lambda x: (1, 1 if x==\"Si\" else 0))\n",
        "contsob.distinct().collect()"
      ],
      "execution_count": null,
      "outputs": []
    },
    {
      "cell_type": "markdown",
      "metadata": {
        "id": "0wzGvPb1A02E"
      },
      "source": [
        "para calcular el promedio de sobrevivientes por clase primero sumamos todos los registros de cada clase y todos los sobrevivientes de cada clase"
      ]
    },
    {
      "cell_type": "code",
      "metadata": {
        "id": "TvVurvp9BEV7"
      },
      "source": [
        "suma=contsob.reduceByKey(lambda x,y: (x[0] + y[0],x[1]+y[1]))\n",
        "suma.collect()"
      ],
      "execution_count": null,
      "outputs": []
    },
    {
      "cell_type": "markdown",
      "metadata": {
        "id": "Pa1o66gLDFck"
      },
      "source": [
        "Ahora calculemos el promedio"
      ]
    },
    {
      "cell_type": "code",
      "metadata": {
        "id": "2f2Rb7ByDIFD"
      },
      "source": [
        "prom=suma.mapValues(lambda x: round(100*(x[1]/x[0]),1))\n",
        "prom.collect()"
      ],
      "execution_count": null,
      "outputs": []
    },
    {
      "cell_type": "markdown",
      "metadata": {
        "id": "Y-pwc8ZXY_wi"
      },
      "source": [
        "**Qué pasó con los adultos de tercera clase?**\n",
        "\n",
        "Primero creemos un solo RDD con la información necesaria"
      ]
    },
    {
      "cell_type": "code",
      "metadata": {
        "id": "O2k1Riu5bp5B"
      },
      "source": [
        "def rddTitanic(a):\n",
        "    data=a.split(\";\")\n",
        "    return (data[0], data[1], data[2], data[3])"
      ],
      "execution_count": null,
      "outputs": []
    },
    {
      "cell_type": "code",
      "metadata": {
        "id": "bzmUMFgmb6qJ"
      },
      "source": [
        "titanic=data.map(rddTitanic)\n",
        "titanic.take(5)"
      ],
      "execution_count": null,
      "outputs": []
    },
    {
      "cell_type": "code",
      "metadata": {
        "id": "6PJ6WIi3ZREV"
      },
      "source": [
        "at=titanic.filter(lambda d: d[0] == \"Tercera\" and d[1]==\"Adulto\")\n",
        "at.take(5)"
      ],
      "execution_count": null,
      "outputs": []
    },
    {
      "cell_type": "code",
      "metadata": {
        "id": "NJU0MT0M51Ov"
      },
      "source": [
        "at.count()"
      ],
      "execution_count": null,
      "outputs": []
    },
    {
      "cell_type": "code",
      "metadata": {
        "id": "v2ijwX0K5511"
      },
      "source": [
        "titanic.count()"
      ],
      "execution_count": null,
      "outputs": []
    },
    {
      "cell_type": "code",
      "metadata": {
        "id": "o2t3ZVr9c5GB"
      },
      "source": [
        "ats=at.map(lambda d: (d[2], 1 if d[3]==\"Si\" else 0))\n",
        "ats.take(5)"
      ],
      "execution_count": null,
      "outputs": []
    },
    {
      "cell_type": "code",
      "metadata": {
        "id": "gbyW7wDy6Nx8"
      },
      "source": [
        "ats.distinct().collect()"
      ],
      "execution_count": null,
      "outputs": []
    },
    {
      "cell_type": "code",
      "metadata": {
        "id": "k27s02FCQpos"
      },
      "source": [
        "num=ats.reduceByKey(add)\n",
        "num.collect()\n"
      ],
      "execution_count": null,
      "outputs": []
    },
    {
      "cell_type": "markdown",
      "metadata": {
        "id": "JCRhBE8jvENe"
      },
      "source": [
        "De los adultos de tercera clase sobrevivieron 76 mujeres y 75 hombres.\n",
        "\n",
        "Pero cuál era el total de adultos de tercera clase?"
      ]
    },
    {
      "cell_type": "code",
      "metadata": {
        "id": "k1jX1pFIvela"
      },
      "source": [
        "hombres = sc.accumulator(0)\n",
        "mujeres = sc.accumulator(0) \n",
        "ats.filter(lambda k: k[0]==\"Hombre\").foreach(lambda k: hombres.add(1))\n",
        "ats.filter(lambda k: k[0]==\"Mujer\").foreach(lambda k: mujeres.add(1))\n",
        "\n",
        "print(\"La cantidad de hombres adultos en el titanic es de \",hombres.value)\n",
        "print(\"La cantidad de mujeres adultas en el titanic es de \",mujeres.value)\n"
      ],
      "execution_count": null,
      "outputs": []
    },
    {
      "cell_type": "markdown",
      "metadata": {
        "id": "iLLmPQ8s2gLM"
      },
      "source": [
        "Que tal una forma más sencilla de resolverlo"
      ]
    },
    {
      "cell_type": "code",
      "metadata": {
        "id": "LjRl2fvbxXcF"
      },
      "source": [
        "a=ats.countByKey()"
      ],
      "execution_count": null,
      "outputs": []
    },
    {
      "cell_type": "code",
      "metadata": {
        "id": "89iESwpC7fKE"
      },
      "source": [
        "type(a)"
      ],
      "execution_count": null,
      "outputs": []
    },
    {
      "cell_type": "markdown",
      "metadata": {
        "id": "4gndvvqn4LZF"
      },
      "source": [
        "**Al momento del rescate se cumplió con la premisa \"Mujeres y niños primero\"**"
      ]
    },
    {
      "cell_type": "markdown",
      "metadata": {
        "id": "cIuXnzqE8KSJ"
      },
      "source": [
        "Calculemos las mujeres que sobrevivieron"
      ]
    },
    {
      "cell_type": "code",
      "metadata": {
        "id": "psCgJpgm8hps"
      },
      "source": [
        "titanic.take(2)"
      ],
      "execution_count": null,
      "outputs": []
    },
    {
      "cell_type": "code",
      "metadata": {
        "id": "wAj4AXKN8Pc5"
      },
      "source": [
        "sobs=titanic.map(lambda x: (x[2], int (x[3]==\"Si\")))\n",
        "sobs.distinct().collect()"
      ],
      "execution_count": null,
      "outputs": []
    },
    {
      "cell_type": "code",
      "metadata": {
        "id": "C2nKb_rg9VN7"
      },
      "source": [
        "num=sobs.reduceByKey(add)\n",
        "num.collect()"
      ],
      "execution_count": null,
      "outputs": []
    },
    {
      "cell_type": "markdown",
      "metadata": {
        "id": "20jeJCoW93b7"
      },
      "source": [
        "Ahora calculemos los niños que sobrevivieron"
      ]
    },
    {
      "cell_type": "code",
      "metadata": {
        "id": "lNkffP5F920n"
      },
      "source": [
        "titanic.map(lambda x: (x[1], int (x[3]==\"Si\"))).reduceByKey(add).collect()"
      ],
      "execution_count": null,
      "outputs": []
    },
    {
      "cell_type": "markdown",
      "metadata": {
        "id": "TkwMd9Hk-Qqg"
      },
      "source": [
        "Tenemos el total de mujeres que sobrevivieron y el total de niños que sobrevivieron. \n",
        "\n",
        "Cómo calculamos el total de mujeres y niños que sobrevivieron?"
      ]
    },
    {
      "cell_type": "code",
      "metadata": {
        "id": "3RAEf3GC5mIL"
      },
      "source": [
        "def rddMN(a):\n",
        "    if (a[1]==\"Ni�o\" or a[2]==\"Mujer\"):\n",
        "      return (\"Mujeres y niños\", int (a[3]==\"Si\"))\n",
        "    else:\n",
        "      return (\"Otros\", int (a[3]==\"Si\"))"
      ],
      "execution_count": null,
      "outputs": []
    },
    {
      "cell_type": "code",
      "metadata": {
        "id": "qHHVx_MmdA6e"
      },
      "source": [
        "mn=titanic.map(rddMN)\n",
        "mn.distinct().collect()"
      ],
      "execution_count": null,
      "outputs": []
    },
    {
      "cell_type": "code",
      "metadata": {
        "id": "ieWTZp0J6v75"
      },
      "source": [
        "mn.reduceByKey(add).collect()"
      ],
      "execution_count": null,
      "outputs": []
    },
    {
      "cell_type": "markdown",
      "metadata": {
        "id": "S8wC6TmiimeA"
      },
      "source": [
        "Que se puede concluir con este resultado?"
      ]
    },
    {
      "cell_type": "code",
      "metadata": {
        "id": "Eez7Bamah-x2"
      },
      "source": [
        "mn.countByKey().items()"
      ],
      "execution_count": null,
      "outputs": []
    },
    {
      "cell_type": "markdown",
      "metadata": {
        "id": "JVwj3nIvmjBZ"
      },
      "source": [
        "Esto puede aclarar el resultado"
      ]
    },
    {
      "cell_type": "code",
      "metadata": {
        "id": "T36S1skFl1OC"
      },
      "source": [
        "a=mn.countByValue().items()"
      ],
      "execution_count": null,
      "outputs": []
    },
    {
      "cell_type": "code",
      "metadata": {
        "id": "13-rhmOWUTsE"
      },
      "source": [
        "type(a)"
      ],
      "execution_count": null,
      "outputs": []
    },
    {
      "cell_type": "markdown",
      "metadata": {
        "id": "uAhav39ySByl"
      },
      "source": [
        "#**Ejercicios**"
      ]
    },
    {
      "cell_type": "markdown",
      "metadata": {
        "id": "MUkopCOzpYEy"
      },
      "source": [
        "Se dispone de un dataset que contiene información relacionada con el hurto a personas en Colombia, son mas de 100.000 casos de hurtos cometidos en el país en la última época\n",
        "\n",
        "Cada registro presenta la siguiente información\n",
        "\n",
        "* Departamento\t\n",
        "* Municipio\t\n",
        "* Día \t\n",
        "* Hora \t\n",
        "* Zona (urbana, rural)\t\n",
        "* Arma empleada\t\n",
        "* Movil agresor\t\n",
        "* Movil víctima\t\n",
        "* Edad víctima\t\n",
        "* Sexo víctima\n"
      ]
    },
    {
      "cell_type": "markdown",
      "metadata": {
        "id": "jOlIFRX1qadU"
      },
      "source": [
        "Utilizando RDDs, resuelva a las siguientes inquietudes:\n",
        "\n",
        "1. Top 10 de los municipios de Antioquia que presentan mayor y menor número de hurtos\n",
        "2. Tipos de armas más utilizadas en zona urbana y rural\n",
        "3. Promedio de edad de las víctimas por departamento\n",
        "4. Tipo de vehículo más utilizado para los hurtos en los fines de semana\n",
        "5. Promedio de casos de hurto por sexo para cada día de la semana\n",
        "6. Municipio de Colombia que presenta mayor número de hurtos a mujeres mayores de 40 años"
      ]
    },
    {
      "cell_type": "markdown",
      "metadata": {
        "id": "ttO4Ft_7uIra"
      },
      "source": [
        "Cargar la BD de hurtos"
      ]
    },
    {
      "cell_type": "code",
      "metadata": {
        "id": "_Oxja74IuLmr",
        "outputId": "86425655-cac1-4c44-917b-f57fab77279c",
        "colab": {
          "base_uri": "https://localhost:8080/"
        }
      },
      "source": [
        "file = sc.textFile(\"local/data/hurtos.csv\")\n",
        "file.take(5)"
      ],
      "execution_count": 200,
      "outputs": [
        {
          "output_type": "execute_result",
          "data": {
            "text/plain": [
              "['DEPARTAMENTO;MUNICIPIO;DIA ;HORA ;ZONA;ARMA EMPLEADA;MOVIL AGRESOR;MOVIL VICTIMA;EDAD;SEXO',\n",
              " 'AMAZONAS;LETICIA (CT);Jueves;18:10;URBANA;ARMA BLANCA;A PIE;A PIE;26;FEMENINO',\n",
              " 'ANTIOQUIA;BELLO;Jueves;0:00;URBANA;SIN EMPLEO DE ARMAS;A PIE;A PIE;46;FEMENINO',\n",
              " 'ANTIOQUIA;CAUCASIA;Jueves;15:20;URBANA;SIN EMPLEO DE ARMAS;A PIE;A PIE;29;MASCULINO',\n",
              " 'ANTIOQUIA;GUARNE;Jueves;19:00;RURAL;SIN EMPLEO DE ARMAS;A PIE;A PIE;39;MASCULINO']"
            ]
          },
          "metadata": {},
          "execution_count": 200
        }
      ]
    },
    {
      "cell_type": "code",
      "metadata": {
        "id": "Lw0azkLTuHny",
        "outputId": "9f44df6c-6c7e-4df4-98a5-d63bab80d55d",
        "colab": {
          "base_uri": "https://localhost:8080/"
        }
      },
      "source": [
        "header = file.first()\n",
        "data = file.filter(lambda row: row != header)\n",
        "data.take(5)"
      ],
      "execution_count": 201,
      "outputs": [
        {
          "output_type": "execute_result",
          "data": {
            "text/plain": [
              "['AMAZONAS;LETICIA (CT);Jueves;18:10;URBANA;ARMA BLANCA;A PIE;A PIE;26;FEMENINO',\n",
              " 'ANTIOQUIA;BELLO;Jueves;0:00;URBANA;SIN EMPLEO DE ARMAS;A PIE;A PIE;46;FEMENINO',\n",
              " 'ANTIOQUIA;CAUCASIA;Jueves;15:20;URBANA;SIN EMPLEO DE ARMAS;A PIE;A PIE;29;MASCULINO',\n",
              " 'ANTIOQUIA;GUARNE;Jueves;19:00;RURAL;SIN EMPLEO DE ARMAS;A PIE;A PIE;39;MASCULINO',\n",
              " 'ANTIOQUIA;ITAGUI;Jueves;14:00;URBANA;CONTUNDENTES;A PIE;A PIE;27;MASCULINO']"
            ]
          },
          "metadata": {},
          "execution_count": 201
        }
      ]
    },
    {
      "cell_type": "code",
      "metadata": {
        "id": "HlGMC1MauazR",
        "outputId": "269e5c13-efa0-459e-a878-7820ed59f785",
        "colab": {
          "base_uri": "https://localhost:8080/"
        }
      },
      "source": [
        "#Llamo el header\n",
        "print(header)"
      ],
      "execution_count": 202,
      "outputs": [
        {
          "output_type": "stream",
          "name": "stdout",
          "text": [
            "DEPARTAMENTO;MUNICIPIO;DIA ;HORA ;ZONA;ARMA EMPLEADA;MOVIL AGRESOR;MOVIL VICTIMA;EDAD;SEXO\n"
          ]
        }
      ]
    },
    {
      "cell_type": "code",
      "metadata": {
        "id": "8mHsiqd1uGeI",
        "outputId": "63b41d89-0f24-49e8-b392-805fe7798cf6",
        "colab": {
          "base_uri": "https://localhost:8080/"
        }
      },
      "source": [
        "def rddHurto(a):\n",
        "    data=a.split(\";\")\n",
        "    return (data[0], data[1],data[2],data[3],data[4],data[5],data[6],data[7],data[8],data[9])\n",
        "\n",
        "hurtos=data.map(rddHurto)\n",
        "hurtos.take(2)"
      ],
      "execution_count": 210,
      "outputs": [
        {
          "output_type": "execute_result",
          "data": {
            "text/plain": [
              "[('AMAZONAS',\n",
              "  'LETICIA (CT)',\n",
              "  'Jueves',\n",
              "  '18:10',\n",
              "  'URBANA',\n",
              "  'ARMA BLANCA',\n",
              "  'A PIE',\n",
              "  'A PIE',\n",
              "  '26',\n",
              "  'FEMENINO'),\n",
              " ('ANTIOQUIA',\n",
              "  'BELLO',\n",
              "  'Jueves',\n",
              "  '0:00',\n",
              "  'URBANA',\n",
              "  'SIN EMPLEO DE ARMAS',\n",
              "  'A PIE',\n",
              "  'A PIE',\n",
              "  '46',\n",
              "  'FEMENINO')]"
            ]
          },
          "metadata": {},
          "execution_count": 210
        }
      ]
    },
    {
      "cell_type": "markdown",
      "metadata": {
        "id": "hrihpme1txIc"
      },
      "source": [
        "1. Top 10 de los municipios de Antioquia que presentan mayor y menor número de hurtos"
      ]
    },
    {
      "cell_type": "code",
      "metadata": {
        "id": "pWTg8shZ1Un6"
      },
      "source": [
        "hurtos_ma=hurtos.filter(lambda x: \"ANTIOQUIA\" in x[0].upper())\n",
        "ma=hurtos_ma.map(lambda d: (d[1], 1)).reduceByKey(add)"
      ],
      "execution_count": 220,
      "outputs": []
    },
    {
      "cell_type": "code",
      "metadata": {
        "id": "wl4AsCpPvV4c",
        "outputId": "6b59cc90-8cb7-4b7a-9482-5e032bf9352a",
        "colab": {
          "base_uri": "https://localhost:8080/"
        }
      },
      "source": [
        "mayor = ma.sortBy(lambda v: -v[1]).take(10)\n",
        "menor = ma.sortBy(lambda v: v[1]).take(10)\n",
        "print(f\"Los 10 municipios de Antioquia con mayor número de hurtos son {mayor}, y los 10 municipios con menor número son {menor}\")"
      ],
      "execution_count": 234,
      "outputs": [
        {
          "output_type": "stream",
          "name": "stdout",
          "text": [
            "Los 10 municipios de Antioquia con mayor número de hurtos son [('MEDELLÍN (CT)', 7830), ('ENVIGADO', 757), ('ITAGUI', 681), ('BELLO', 562), ('RIONEGRO', 360), ('SABANETA', 228), ('COPACABANA', 147), ('CAUCASIA', 112), ('LA CEJA', 107), ('APARTADÓ', 105)], y los 10 municipios con menor número son [('BETULIA', 1), ('HELICONIA', 1), ('NECHÍ', 1), ('VEGACHÍ', 1), ('CAROLINA', 1), ('CAMPAMENTO', 1), ('SABANALARGA', 1), ('PUERTO NARE', 1), ('ZARAGOZA', 1), ('PEQUE', 1)]\n"
          ]
        }
      ]
    },
    {
      "cell_type": "markdown",
      "metadata": {
        "id": "ZgJjs_BB3u3w"
      },
      "source": [
        "2. Tipos de armas más utilizadas en zona urbana y rural"
      ]
    },
    {
      "cell_type": "code",
      "metadata": {
        "id": "AbwReuLQ41My"
      },
      "source": [
        "def rddArmas(a):\n",
        "    data=a.split(\";\")\n",
        "    return (data[4], data[5])"
      ],
      "execution_count": 235,
      "outputs": []
    },
    {
      "cell_type": "code",
      "metadata": {
        "id": "FJ5HyPY_4wcE",
        "outputId": "809eccdc-e477-462d-fea9-43cb79781774",
        "colab": {
          "base_uri": "https://localhost:8080/"
        }
      },
      "source": [
        "arma=data.map(rddArmas)\n",
        "arma.distinct().collect()"
      ],
      "execution_count": 239,
      "outputs": [
        {
          "output_type": "execute_result",
          "data": {
            "text/plain": [
              "[('URBANA', 'SIN EMPLEO DE ARMAS'),\n",
              " ('RURAL', 'SIN EMPLEO DE ARMAS'),\n",
              " ('URBANA', 'CONTUNDENTES'),\n",
              " ('URBANA', 'ARMA DE FUEGO'),\n",
              " ('URBANA', 'NO REPORTADO'),\n",
              " ('RURAL', 'CONTUNDENTES'),\n",
              " ('URBANA', 'CORTANTES'),\n",
              " ('RURAL', 'CORTANTES'),\n",
              " ('RURAL', 'ARMA DE FUEGO'),\n",
              " ('URBANA', 'ESCOPOLAMINA'),\n",
              " ('URBANA', 'JERINGA'),\n",
              " ('RURAL', 'ESCOPOLAMINA'),\n",
              " ('RURAL', 'NO REPORTADO'),\n",
              " ('', ''),\n",
              " ('URBANA', 'ARMA BLANCA'),\n",
              " ('RURAL', 'ARMA BLANCA'),\n",
              " ('URBANA', 'PERRO'),\n",
              " ('RURAL', 'PERRO')]"
            ]
          },
          "metadata": {},
          "execution_count": 239
        }
      ]
    },
    {
      "cell_type": "code",
      "metadata": {
        "id": "cMOLJ8mL5mfP",
        "outputId": "f905bea4-8d6c-4386-b172-ca16aedf6f17",
        "colab": {
          "base_uri": "https://localhost:8080/"
        }
      },
      "source": [
        "conteo_u = sc.accumulator(0)\n",
        "conteo_r = sc.accumulator(0) \n",
        "arma.filter(lambda k: k[0]==\"RURAL\").foreach(lambda k: conteo_u.add(1))\n",
        "arma.filter(lambda k: k[0]==\"URBANA\").foreach(lambda k: conteo_r.add(1))\n",
        "\n",
        "conteo_u.value,conteo_r.value"
      ],
      "execution_count": 244,
      "outputs": [
        {
          "output_type": "execute_result",
          "data": {
            "text/plain": [
              "(4846, 96438)"
            ]
          },
          "metadata": {},
          "execution_count": 244
        }
      ]
    },
    {
      "cell_type": "code",
      "metadata": {
        "id": "5g5pdk-P5Tdw"
      },
      "source": [
        "rural=arma.filter(lambda k: k[0]==\"RURAL\").map(lambda d: (d[1], 1)).reduceByKey(add).sortBy(lambda v: -v[1])\n",
        "urbana=arma.filter(lambda k: k[0]==\"URBANA\").map(lambda d: (d[1], 1)).reduceByKey(add).sortBy(lambda v: -v[1])"
      ],
      "execution_count": 260,
      "outputs": []
    },
    {
      "cell_type": "code",
      "metadata": {
        "id": "Tj7wg9j87Z0N",
        "outputId": "264b3322-f5d8-401b-98e6-4399861fef11",
        "colab": {
          "base_uri": "https://localhost:8080/"
        }
      },
      "source": [
        "print(f\"El tipo de armas más utilizadas en la zona rural son: {rural.take(3)}\")\n",
        "print(f\"El tipo de armas más utilizadas en la zona urbana son: {urbana.take(3)}\")\n"
      ],
      "execution_count": 283,
      "outputs": [
        {
          "output_type": "stream",
          "name": "stdout",
          "text": [
            "El tipo de armas más utilizadas en la zona rural son: [('SIN EMPLEO DE ARMAS', 1883), ('ARMA DE FUEGO', 1692), ('CONTUNDENTES', 665)]\n",
            "El tipo de armas más utilizadas en la zona urbana son: [('SIN EMPLEO DE ARMAS', 44897), ('ARMA BLANCA', 18713), ('ARMA DE FUEGO', 18126)]\n"
          ]
        }
      ]
    },
    {
      "cell_type": "code",
      "metadata": {
        "id": "CjCYX_S_AdCy",
        "outputId": "af4eca2e-652f-4c0a-a0cb-2cc6373942a0",
        "colab": {
          "base_uri": "https://localhost:8080/"
        }
      },
      "source": [
        "#Forma Resumida\n",
        "ee=hurtos.map(lambda x:(x[4],x[5]))\n",
        "ee=ee.countByValue()\n",
        "ee"
      ],
      "execution_count": 288,
      "outputs": [
        {
          "output_type": "execute_result",
          "data": {
            "text/plain": [
              "defaultdict(int,\n",
              "            {('', ''): 2,\n",
              "             ('RURAL', 'ARMA BLANCA'): 513,\n",
              "             ('RURAL', 'ARMA DE FUEGO'): 1692,\n",
              "             ('RURAL', 'CONTUNDENTES'): 665,\n",
              "             ('RURAL', 'CORTANTES'): 43,\n",
              "             ('RURAL', 'ESCOPOLAMINA'): 16,\n",
              "             ('RURAL', 'NO REPORTADO'): 31,\n",
              "             ('RURAL', 'PERRO'): 3,\n",
              "             ('RURAL', 'SIN EMPLEO DE ARMAS'): 1883,\n",
              "             ('URBANA', 'ARMA BLANCA'): 18713,\n",
              "             ('URBANA', 'ARMA DE FUEGO'): 18126,\n",
              "             ('URBANA', 'CONTUNDENTES'): 12837,\n",
              "             ('URBANA', 'CORTANTES'): 516,\n",
              "             ('URBANA', 'ESCOPOLAMINA'): 877,\n",
              "             ('URBANA', 'JERINGA'): 8,\n",
              "             ('URBANA', 'NO REPORTADO'): 399,\n",
              "             ('URBANA', 'PERRO'): 65,\n",
              "             ('URBANA', 'SIN EMPLEO DE ARMAS'): 44897})"
            ]
          },
          "metadata": {},
          "execution_count": 288
        }
      ]
    },
    {
      "cell_type": "markdown",
      "metadata": {
        "id": "NK6PU9gP8AEa"
      },
      "source": [
        "3. Promedio de edad de las víctimas por departamento"
      ]
    },
    {
      "cell_type": "code",
      "metadata": {
        "id": "gC-CLAkL-Dlh"
      },
      "source": [
        "def rddDpto(a):\n",
        "    data=a.split(\";\")\n",
        "    return (data[0], data[8])"
      ],
      "execution_count": 295,
      "outputs": []
    },
    {
      "cell_type": "code",
      "metadata": {
        "id": "2W2ko4-j-tif",
        "outputId": "765269a2-5c65-4948-faf2-64129d5e7570",
        "colab": {
          "base_uri": "https://localhost:8080/"
        }
      },
      "source": [
        "de=data.map(rddDpto)\n",
        "de_final=de.filter(lambda x:x[1]!='')\n",
        "de_final.take(5)"
      ],
      "execution_count": 299,
      "outputs": [
        {
          "output_type": "execute_result",
          "data": {
            "text/plain": [
              "[('AMAZONAS', '26'),\n",
              " ('ANTIOQUIA', '46'),\n",
              " ('ANTIOQUIA', '29'),\n",
              " ('ANTIOQUIA', '39'),\n",
              " ('ANTIOQUIA', '27')]"
            ]
          },
          "metadata": {},
          "execution_count": 299
        }
      ]
    },
    {
      "cell_type": "code",
      "metadata": {
        "id": "42iEB1RO8LJ9"
      },
      "source": [
        "de_e=de.map(lambda d: (d[0], 1)).reduceByKey(add)"
      ],
      "execution_count": 293,
      "outputs": []
    },
    {
      "cell_type": "code",
      "metadata": {
        "id": "WkTCCww03KfT"
      },
      "source": [
        ""
      ],
      "execution_count": null,
      "outputs": []
    }
  ]
}
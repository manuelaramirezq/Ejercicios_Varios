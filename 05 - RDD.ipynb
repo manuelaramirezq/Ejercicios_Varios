{
  "nbformat": 4,
  "nbformat_minor": 0,
  "metadata": {
    "colab": {
      "name": "05 - RDD.ipynb",
      "provenance": [],
      "collapsed_sections": []
    },
    "kernelspec": {
      "name": "python3",
      "display_name": "Python 3"
    }
  },
  "cells": [
    {
      "cell_type": "code",
      "metadata": {
        "id": "NR0mBQLzQSE3"
      },
      "source": [
        "!wget --no-cache -O init.py -q https://raw.githubusercontent.com/UDEA-Esp-Analitica-y-Ciencia-de-Datos/EACD-03-BIGDATA/master/init.py\n",
        "import init; init.init(force_download=False); \n",
        "from IPython.display import Image"
      ],
      "execution_count": 78,
      "outputs": []
    },
    {
      "cell_type": "code",
      "metadata": {
        "id": "VjpVTH9sQZvB"
      },
      "source": [
        "Image(\"local/imgs/udea-datascience.png\")"
      ],
      "execution_count": null,
      "outputs": []
    },
    {
      "cell_type": "code",
      "metadata": {
        "id": "5spYqCiCSshN"
      },
      "source": [
        "#Instalación\n",
        "!apt-get install openjdk-11-jdk-headless -qq > /dev/null\n",
        "!wget -q http://archive.apache.org/dist/spark/spark-3.0.1/spark-3.0.1-bin-hadoop3.2.tgz\n",
        "!tar xf spark-3.0.1-bin-hadoop3.2.tgz \n",
        "!pip install -q findspark\n",
        "\n",
        "#Variables de Entorno\n",
        "import os\n",
        "os.environ[\"JAVA_HOME\"] = \"/usr/lib/jvm/java-11-openjdk-amd64\"\n",
        "os.environ[\"SPARK_HOME\"] = \"/content/spark-3.0.1-bin-hadoop3.2\"\n",
        "\n",
        "#SparkContext\n",
        "import findspark\n",
        "findspark.init()\n",
        "from pyspark.sql import SparkSession\n",
        "from pyspark import SparkContext\n",
        "spark = SparkSession.builder.master(\"local[*]\").getOrCreate()\n",
        "sc = SparkContext.getOrCreate()"
      ],
      "execution_count": null,
      "outputs": []
    },
    {
      "cell_type": "markdown",
      "metadata": {
        "id": "jJjCEwKmRhMs"
      },
      "source": [
        "#**RDD**\n"
      ]
    },
    {
      "cell_type": "markdown",
      "metadata": {
        "id": "AKP1yGjGkuyn"
      },
      "source": [
        "\n",
        "Un RDD (Dataset Distribuido Resiliente) es una colección de elementos que es tolerante a fallos y que es capaz de operar en paralelo.\n",
        "\n",
        "Se considera como la principal abstracción de datos de Spark, definido desde la primera versión, y permite que los datos se puedan particionar y distribuir en los nodos del clúster.\n",
        "\n",
        "Estas son las principales características de los RDD:\n",
        "* Inmutable: Una vez creado NO puede ser modificado\n",
        "* Tolerancia a fallas: Ya que los RDD están particionados y distribuidos en los nodos del clúster, si un nodo falla se puede recuperar los datos consultando otro nodo\n",
        "* Evaluación perezosa: Las transformaciones realizada al RDD no se ejecutan de inmediato, se almacenan en un DAG (Grafo Acíclico dirigido) y se resuelven cuando sea necesario resolverlas\n",
        "\n"
      ]
    },
    {
      "cell_type": "markdown",
      "metadata": {
        "id": "PAe39uHASJ5F"
      },
      "source": [
        "**Crear un RDD**\n",
        "\n",
        "Existen dos formas de crear un RDD\n",
        "\n",
        "\n",
        "1. Paralelizar una colección existente\n",
        "\n",
        "Crear un RDD usando el método parallelize del SparkContext"
      ]
    },
    {
      "cell_type": "code",
      "metadata": {
        "id": "vZSz8ORfSSma"
      },
      "source": [
        "num = [0, 1, 2, 3, 4, 5]\n",
        "type(num)"
      ],
      "execution_count": null,
      "outputs": []
    },
    {
      "cell_type": "code",
      "metadata": {
        "id": "BcMaFWakSYHN"
      },
      "source": [
        "numRdd=sc.parallelize(num)\n",
        "type(numRdd)"
      ],
      "execution_count": null,
      "outputs": []
    },
    {
      "cell_type": "markdown",
      "metadata": {
        "id": "3hmt5o_lThrd"
      },
      "source": [
        "2. Hacer referencia a un conjunto de datos en un sistema de almacenamiento externo\n",
        "\n",
        "Crear un RDD usando el método textFile del SparkContext"
      ]
    },
    {
      "cell_type": "code",
      "metadata": {
        "id": "aRT0uF5HTn1l"
      },
      "source": [
        "textRdd = sc.textFile(\"local/data/animales.txt\")\n",
        "type(textRdd)"
      ],
      "execution_count": null,
      "outputs": []
    },
    {
      "cell_type": "markdown",
      "metadata": {
        "id": "3-4_CAnplm7c"
      },
      "source": [
        "Al crear un RDD este es particionado y cada una de esas particiones se distribuye en el clúster.\n",
        "\n",
        "Veamos cómo se crean esas particiones"
      ]
    },
    {
      "cell_type": "code",
      "metadata": {
        "id": "blRjXnzSl5w8"
      },
      "source": [
        "numRdd.getNumPartitions()"
      ],
      "execution_count": null,
      "outputs": []
    },
    {
      "cell_type": "markdown",
      "metadata": {
        "id": "ryS4ZB16mA3c"
      },
      "source": [
        "Ese número de particiones a utilizar puede ser indicado por el usuario"
      ]
    },
    {
      "cell_type": "code",
      "metadata": {
        "id": "4B3Xs7oamASc"
      },
      "source": [
        "numRddP4=sc.parallelize(num,4)"
      ],
      "execution_count": null,
      "outputs": []
    },
    {
      "cell_type": "code",
      "metadata": {
        "id": "4gGkXwzhmdGt"
      },
      "source": [
        "numRddP4.getNumPartitions()"
      ],
      "execution_count": null,
      "outputs": []
    },
    {
      "cell_type": "markdown",
      "metadata": {
        "id": "tSIxA-S2aGLM"
      },
      "source": [
        "**Evaluación perezosa**\n",
        "\n",
        "La evaluación perezosa de los RDD se refiere a que las acciones no se ejecutan hasta que no sea estrictamente necesario. En su lugar se crea un Grafo Dirigido Asincrónico (DAG) que  se ejecutará cuando sea necesario.\n",
        "\n",
        "Para comprobarlo creamos un RDD a partir de un archivo que no existe\n",
        "\n"
      ]
    },
    {
      "cell_type": "code",
      "metadata": {
        "id": "PyRtcrEXa2BQ"
      },
      "source": [
        "textRdd = sc.textFile(\"local/data/archivo_no_existe.txt\")"
      ],
      "execution_count": null,
      "outputs": []
    },
    {
      "cell_type": "markdown",
      "metadata": {
        "id": "LC5ROCh0a727"
      },
      "source": [
        "No se genera ningún error a pesar de que el archivo no existe.\n",
        "\n",
        "Ahora apliquemos un collect() para obligar a que se ejecute el grafo"
      ]
    },
    {
      "cell_type": "code",
      "metadata": {
        "id": "6caNPK2GbHEK"
      },
      "source": [
        "textRdd.collect()"
      ],
      "execution_count": null,
      "outputs": []
    },
    {
      "cell_type": "markdown",
      "metadata": {
        "id": "eN1B7vzXbKa8"
      },
      "source": [
        "Ahora si se genera el error de que el archivo a cargar no existe"
      ]
    },
    {
      "cell_type": "markdown",
      "metadata": {
        "id": "EWkCqcDAgDX8"
      },
      "source": [
        "Veamos otro ejemplo ahora leyendo un archivo que si existe"
      ]
    },
    {
      "cell_type": "code",
      "metadata": {
        "id": "58M7ln_igHSC"
      },
      "source": [
        "textRdd = sc.textFile(\"local/data/animales.txt\")"
      ],
      "execution_count": null,
      "outputs": []
    },
    {
      "cell_type": "markdown",
      "metadata": {
        "id": "zNhFOojmm_ld"
      },
      "source": [
        "Veamos el contenido del RDD creado"
      ]
    },
    {
      "cell_type": "code",
      "metadata": {
        "id": "y82PV-VNm9qX"
      },
      "source": [
        "for line in textRdd:\n",
        "  print(line)\n"
      ],
      "execution_count": null,
      "outputs": []
    },
    {
      "cell_type": "markdown",
      "metadata": {
        "id": "MdkgqZAUnaM1"
      },
      "source": [
        "Porqué no podemos ver el contenido del RDD?"
      ]
    },
    {
      "cell_type": "markdown",
      "metadata": {
        "id": "F0OiqggKnh2F"
      },
      "source": [
        "La forma correcta sería convertir el RDD en una lista para que sea iterable y la pueda recorrer"
      ]
    },
    {
      "cell_type": "code",
      "metadata": {
        "id": "ck2sZPEbnrvZ"
      },
      "source": [
        "for line in textRdd.collect():\n",
        "  print(line)"
      ],
      "execution_count": null,
      "outputs": []
    },
    {
      "cell_type": "markdown",
      "metadata": {
        "id": "QxUN1MwAgcaV"
      },
      "source": [
        "Se puede ver que el archivo tiene 3 líneas.\n",
        "\n",
        "Ahora abra el archivo, agregue una nueva línea y volvamos a imprimirlo"
      ]
    },
    {
      "cell_type": "code",
      "metadata": {
        "id": "a0mX5whZgokM"
      },
      "source": [
        "textRdd.collect()"
      ],
      "execution_count": null,
      "outputs": []
    },
    {
      "cell_type": "markdown",
      "metadata": {
        "id": "DxqSCSkPg5Bv"
      },
      "source": [
        "**¿Que pasó?** Porque volvió a leer el archivo si ya lo había leído antes?"
      ]
    },
    {
      "cell_type": "markdown",
      "metadata": {
        "id": "kUPAU2_yhUb_"
      },
      "source": [
        "Vuelva a dejar el archivo con su contenido original"
      ]
    },
    {
      "cell_type": "markdown",
      "metadata": {
        "id": "AxwLYRmvoNX4"
      },
      "source": [
        "##**Operaciones**"
      ]
    },
    {
      "cell_type": "markdown",
      "metadata": {
        "id": "I1DnB9UGgGTF"
      },
      "source": [
        "Sobre un RDD se pueden ejecutar dos tipos de operaciones, a saber, transformaciones y acciones\n",
        "\n",
        "En este enlace puede encontrar más información sobre cada una de las transformaciones y acciones presentadas en este Notebook\n",
        "\n",
        "https://spark.apache.org/docs/latest/api/python/pyspark.html#pyspark.RDD"
      ]
    },
    {
      "cell_type": "markdown",
      "metadata": {
        "id": "ohzrJKJzRxTt"
      },
      "source": [
        "###**Transformaciones**\n",
        "Las transformaciones se ejecutan sobre un RDD y generan un nuevo RDD\n"
      ]
    },
    {
      "cell_type": "markdown",
      "metadata": {
        "id": "9-OMj1aCUB87"
      },
      "source": [
        "**map(func):** Entrega un nuevo conjunto de datos resultado de pasar cada elemento por la función indicada"
      ]
    },
    {
      "cell_type": "code",
      "metadata": {
        "id": "k09cl4RPUIpf"
      },
      "source": [
        "rdd = sc.parallelize([\"a\", \"b\", \"c\"])\n",
        "rdd.map(lambda x: (x, 1)).collect()"
      ],
      "execution_count": null,
      "outputs": []
    },
    {
      "cell_type": "markdown",
      "metadata": {
        "id": "2uyxsHLzUTMn"
      },
      "source": [
        "**filter(func):** Entrega un conjunto de datos con los elementos en los que la función retorne verdadero\n"
      ]
    },
    {
      "cell_type": "code",
      "metadata": {
        "id": "-pvKrVKsUqIm"
      },
      "source": [
        "rdd = sc.parallelize([1, 2, 3, 4, 5])\n",
        "rdd.filter(lambda x: x % 2 == 0).collect()"
      ],
      "execution_count": null,
      "outputs": []
    },
    {
      "cell_type": "markdown",
      "metadata": {
        "id": "M1CvoxvEYdnZ"
      },
      "source": [
        "Vamos a construir una función y la usamos como argumento de filter"
      ]
    },
    {
      "cell_type": "code",
      "metadata": {
        "id": "Vw0cww9JVJ2I"
      },
      "source": [
        "def par(x):\n",
        "  if x % 2==0:\n",
        "    return True\n",
        "  else:\n",
        "    return False"
      ],
      "execution_count": null,
      "outputs": []
    },
    {
      "cell_type": "code",
      "metadata": {
        "id": "gDpH7NGhYMro"
      },
      "source": [
        "par(4)"
      ],
      "execution_count": null,
      "outputs": []
    },
    {
      "cell_type": "code",
      "metadata": {
        "id": "Pf4KJtV5VnnI"
      },
      "source": [
        "rdd = sc.parallelize([1, 2, 3, 4, 5])\n",
        "rdd.filter(par).collect()"
      ],
      "execution_count": null,
      "outputs": []
    },
    {
      "cell_type": "markdown",
      "metadata": {
        "id": "yDz4l5_YrGE9"
      },
      "source": [
        "Y si el RDD contiene strings?"
      ]
    },
    {
      "cell_type": "code",
      "metadata": {
        "id": "Gusc0VixtaBl"
      },
      "source": [
        "rdd = sc.parallelize([\"La capital de Antioquia es Medellín\", \\\n",
        "                      \"La capital de Cundinamarca es Bogotá\", \\\n",
        "                      \"Bogotá tiene mas de 7 millones de habitantes\", \\\n",
        "                      \"Medellín tiene mas de 2 millones de habitantes\"])"
      ],
      "execution_count": null,
      "outputs": []
    },
    {
      "cell_type": "code",
      "metadata": {
        "id": "aTgeDvpVrVfh"
      },
      "source": [
        "\n",
        "medellin=rdd.filter(lambda x: \"Medellín\" in x)\n",
        "print(\"El número de regitros que contienen Medellín es\",medellin.count())\n",
        "medellin.collect()"
      ],
      "execution_count": null,
      "outputs": []
    },
    {
      "cell_type": "markdown",
      "metadata": {
        "id": "ncz0MmlDZV62"
      },
      "source": [
        "**flatMap(func):** Funciona similar al map. Devuelve un nuevo RDD aplicando primero una función a todos los elementos de este RDD y luego compactando los resultados."
      ]
    },
    {
      "cell_type": "code",
      "metadata": {
        "id": "XlqF6kmhZfYr"
      },
      "source": [
        "rdd = sc.parallelize([2, 3, 4])\n",
        "rdd.flatMap(lambda x: (x,x*x)).collect()"
      ],
      "execution_count": null,
      "outputs": []
    },
    {
      "cell_type": "markdown",
      "metadata": {
        "id": "GrIpsAQ0cD9e"
      },
      "source": [
        "**sample(withReplacement, fraction, seed):**\n",
        "Muestrea una fracción de los datos, con o sin reemplazo, usando una semilla generadora de números aleatorios"
      ]
    },
    {
      "cell_type": "code",
      "metadata": {
        "id": "ugrfchJScGMd"
      },
      "source": [
        "rdd = sc.parallelize(range(100))\n",
        "sample= rdd.sample(False, 0.1, 1)\n",
        "sample.collect()"
      ],
      "execution_count": null,
      "outputs": []
    },
    {
      "cell_type": "markdown",
      "metadata": {
        "id": "TVF0KlMCfazm"
      },
      "source": [
        "Qué pasa si no usamos la semilla?"
      ]
    },
    {
      "cell_type": "code",
      "metadata": {
        "id": "mfx5WB_Iffq9"
      },
      "source": [
        "sample= rdd.sample(False, 0.1)\n",
        "sample.collect()"
      ],
      "execution_count": null,
      "outputs": []
    },
    {
      "cell_type": "markdown",
      "metadata": {
        "id": "b4FJzcOCgdqd"
      },
      "source": [
        "**union(otherDataset):** Entrega un nuevo conjunto de datos que incluye los datos actuales y los que se pasen como argumento\n",
        "\n"
      ]
    },
    {
      "cell_type": "code",
      "metadata": {
        "id": "GnpokMVMgqK9"
      },
      "source": [
        "a=sc.parallelize([1, 3, 5, 7, 9])\n",
        "b=sc.parallelize([0, 2, 4, 6, 8])\n",
        "a.union(b).collect()\n"
      ],
      "execution_count": null,
      "outputs": []
    },
    {
      "cell_type": "markdown",
      "metadata": {
        "id": "DE78htPxhWmM"
      },
      "source": [
        "**intersection(otherDataset):** Entrega un nuevo conjunto de datos formado por la intersección entre el conjunto de datos actual y el que se pasa como argumento \n"
      ]
    },
    {
      "cell_type": "code",
      "metadata": {
        "id": "GcGOLQhtha4k"
      },
      "source": [
        "a=sc.parallelize([0, 2, 4, 6, 8])\n",
        "b=sc.parallelize([6, 8, 10, 12, 14])\n",
        "a.intersection(b).collect()"
      ],
      "execution_count": null,
      "outputs": []
    },
    {
      "cell_type": "markdown",
      "metadata": {
        "id": "SAxpPAE3htuO"
      },
      "source": [
        "**distinct():** Entrega un nuevo conjunto de datos formado por los elementos diferentes del conjunto de datos actual\n"
      ]
    },
    {
      "cell_type": "code",
      "metadata": {
        "id": "oZvQplwuh59F"
      },
      "source": [
        "a=sc.parallelize([3, 1, 1, 0, 2, 3, 2, 0, 0, 1, 1])\n",
        "b=a.distinct()\n",
        "b.collect()"
      ],
      "execution_count": null,
      "outputs": []
    },
    {
      "cell_type": "markdown",
      "metadata": {
        "id": "zxyeWoAKineN"
      },
      "source": [
        "**groupByKey():** Recibe un conjunto tuplas (clave valor), y entrega un nuevo conjunto de tuplas (clave, Iterable[valores] )\n",
        "\n"
      ]
    },
    {
      "cell_type": "code",
      "metadata": {
        "id": "pnPKqZ6Nj0JH"
      },
      "source": [
        "rdd = sc.parallelize([(\"a\", 1), (\"b\", 1), (\"a\", 2), (\"b\", 6), (\"a\", 3), (\"c\", 5)])\n",
        "gbk=rdd.groupByKey()\n",
        "gbk.collect()"
      ],
      "execution_count": null,
      "outputs": []
    },
    {
      "cell_type": "markdown",
      "metadata": {
        "id": "wTezUASold0S"
      },
      "source": [
        "Con la función mapValues podemos obtener información sobre el contenido de ese iterable de los valores.\n",
        "\n",
        "Si le pasamos como argumento len nos dirá el tamaño del iterable"
      ]
    },
    {
      "cell_type": "code",
      "metadata": {
        "id": "WvaZZ1YtlByc"
      },
      "source": [
        "gbk.mapValues(len).collect()"
      ],
      "execution_count": null,
      "outputs": []
    },
    {
      "cell_type": "markdown",
      "metadata": {
        "id": "C8eN8aMtlzvU"
      },
      "source": [
        "Si le pasamos como argumento list nos entregará la lista de valores"
      ]
    },
    {
      "cell_type": "code",
      "metadata": {
        "id": "IKLEMktSke1s"
      },
      "source": [
        "gbk.mapValues(list).collect()"
      ],
      "execution_count": null,
      "outputs": []
    },
    {
      "cell_type": "markdown",
      "metadata": {
        "id": "KH0osF7ymXsc"
      },
      "source": [
        "**reduceByKey(func):** Recibe un conjunto de tuplas (clave, valor) y devuelve un nuevo conjunto de tuplas con la clave y la reducción de los valores por clave según la función que se pase como argumento\n"
      ]
    },
    {
      "cell_type": "code",
      "metadata": {
        "id": "02_T_3s_mvZk"
      },
      "source": [
        "from operator import add\n",
        "rdd = sc.parallelize([(\"a\", 1), (\"b\", 1), (\"a\", 2), (\"b\", 6), (\"a\", 3), (\"c\", 5)])\n",
        "rdd.reduceByKey(add).collect()"
      ],
      "execution_count": null,
      "outputs": []
    },
    {
      "cell_type": "markdown",
      "metadata": {
        "id": "6vig9gaBnFuA"
      },
      "source": [
        "Cuando trabajamos con datos numéricos podemos utilizar operadores predefinidos por Spark, como es el caso del operador add que se encarga de sumar los valores.\n"
      ]
    },
    {
      "cell_type": "markdown",
      "metadata": {
        "id": "QVVoTy6nsIMT"
      },
      "source": [
        "**sortByKey(type):** Entrega un conjunto de tuplas clave valor ordenados ascendente o descendentemente según se solicite\n"
      ]
    },
    {
      "cell_type": "code",
      "metadata": {
        "id": "xOkmT-BKsKXC"
      },
      "source": [
        "rdd = sc.parallelize([(\"a\", 1), (\"b\", 1), (\"a\", 2), (\"b\", 6), (\"a\", 3), (\"c\", 5)])\n",
        "rdd.sortByKey().collect()"
      ],
      "execution_count": null,
      "outputs": []
    },
    {
      "cell_type": "markdown",
      "metadata": {
        "id": "-yCPMZQksvjz"
      },
      "source": [
        "Por defecto se ordena de manera ascendente, que también puede ser indicado enviando True como argumento.\n",
        "\n",
        "Para ordenar descendentemente enviamos False como parámetro"
      ]
    },
    {
      "cell_type": "code",
      "metadata": {
        "id": "EsNLEiPAtCMR"
      },
      "source": [
        "rdd = sc.parallelize([(\"a\", 1), (\"b\", 1), (\"a\", 2), (\"b\", 6), (\"a\", 3), (\"c\", 5)])\n",
        "rdd.sortByKey(False).collect()"
      ],
      "execution_count": null,
      "outputs": []
    },
    {
      "cell_type": "markdown",
      "metadata": {
        "id": "GbKFM0h-tcB2"
      },
      "source": [
        "Y en caso que las claves puedan ser números y letras como se ordena?"
      ]
    },
    {
      "cell_type": "code",
      "metadata": {
        "id": "xop_udZttwCy"
      },
      "source": [
        "rdd = sc.parallelize([('a', 1), ('b', 2), ('1', 3), ('d', 4), ('2', 5)])\n",
        "rdd.sortByKey(True).collect()"
      ],
      "execution_count": null,
      "outputs": []
    },
    {
      "cell_type": "markdown",
      "metadata": {
        "id": "uHWjBqokuanS"
      },
      "source": [
        "**join(otherDataset):** A partir de tuplas (K,V) y (K,W) entrega como resultado tuplas (K,(V,W))\n",
        "\n",
        "\n"
      ]
    },
    {
      "cell_type": "code",
      "metadata": {
        "id": "2MYnCkC1ueFk"
      },
      "source": [
        "x = sc.parallelize([(\"a\", 1),(\"a\", 2), (\"b\", 4)])\n",
        "y = sc.parallelize([(\"a\", 5), (\"a\", 6),(\"a\", 7)])\n",
        "x.join(y).collect()"
      ],
      "execution_count": null,
      "outputs": []
    },
    {
      "cell_type": "markdown",
      "metadata": {
        "id": "V3gV0RhxvozD"
      },
      "source": [
        "**cogroup(otherDataset):** A partir de conjuntos de datos (K,V) y (K,W) entrega un conjunto de datos de tipo (K, Iterable<V>, Iterable<W>)\n"
      ]
    },
    {
      "cell_type": "code",
      "metadata": {
        "id": "Orl-pbu9vudB"
      },
      "source": [
        "x = sc.parallelize([(\"a\", 1), (\"b\", 4)])\n",
        "y = sc.parallelize([(\"a\", 2)])\n",
        "z=x.cogroup(y)\n",
        "z.mapValues(list).collect()"
      ],
      "execution_count": null,
      "outputs": []
    },
    {
      "cell_type": "markdown",
      "metadata": {
        "id": "LUdgRZ4LRt09"
      },
      "source": [
        "###**Acciones**\n",
        "\n",
        "Las acciones se aplican sobre un conjunto de datos y devuelven un valor o un nuevo conjunto de datos\t\n"
      ]
    },
    {
      "cell_type": "markdown",
      "metadata": {
        "id": "ViwK0iDvzKFt"
      },
      "source": [
        "**reduce(func):** Agrega los elementos de un conjunto de datos aplicando sobre ellos una función\n",
        "\n"
      ]
    },
    {
      "cell_type": "code",
      "metadata": {
        "id": "mAIRLGYezUWb"
      },
      "source": [
        "from operator import add\n",
        "rdd=sc.parallelize([1, 2, 3, 4, 5])\n",
        "rdd.reduce(add)"
      ],
      "execution_count": null,
      "outputs": []
    },
    {
      "cell_type": "markdown",
      "metadata": {
        "id": "QLD5ABsIztoL"
      },
      "source": [
        "Porqué ya no es necesario usar collect()?"
      ]
    },
    {
      "cell_type": "markdown",
      "metadata": {
        "id": "EKhF-7abzzpo"
      },
      "source": [
        "**Collect():** Devuelve todos los elementos del conjunto de datos"
      ]
    },
    {
      "cell_type": "markdown",
      "metadata": {
        "id": "hCk-VKcq0wLJ"
      },
      "source": [
        "**count():** Entrega el número de elementos disponibles en el conjunto de datos\n",
        "\n",
        "\n",
        "\n"
      ]
    },
    {
      "cell_type": "code",
      "metadata": {
        "id": "bVF6QsCM0A-5"
      },
      "source": [
        "sc.parallelize([1, 2, 3, 4, 5]).count()"
      ],
      "execution_count": null,
      "outputs": []
    },
    {
      "cell_type": "markdown",
      "metadata": {
        "id": "w_jBIc7p1P2M"
      },
      "source": [
        "**First():** Entrega el primer elemento del conjunto de datos\n",
        "\n"
      ]
    },
    {
      "cell_type": "code",
      "metadata": {
        "id": "RY4kX-o31R1u"
      },
      "source": [
        "sc.parallelize([1, 2, 3, 4, 5]).first()"
      ],
      "execution_count": null,
      "outputs": []
    },
    {
      "cell_type": "markdown",
      "metadata": {
        "id": "XyFirj6a1kSt"
      },
      "source": [
        "**Take(n):** Entrega los primeros n elementos del conjunto de datos\n",
        "\n"
      ]
    },
    {
      "cell_type": "code",
      "metadata": {
        "id": "pNRvntPp1nFg"
      },
      "source": [
        "sc.parallelize([1, 2, 3, 4, 5]).take(3)"
      ],
      "execution_count": null,
      "outputs": []
    },
    {
      "cell_type": "markdown",
      "metadata": {
        "id": "AZeRocRndS23"
      },
      "source": [
        "**TakeOrdered(n):** Entrega los primeros n elementos del conjunto de datos ordenados"
      ]
    },
    {
      "cell_type": "code",
      "metadata": {
        "id": "-Y6npAkUdhb9"
      },
      "source": [
        "sc.parallelize([5, 3, 1, 4, 2]).takeOrdered(3)"
      ],
      "execution_count": null,
      "outputs": []
    },
    {
      "cell_type": "markdown",
      "metadata": {
        "id": "yYBAOUljd0OV"
      },
      "source": [
        "podemos utilizar un parámetro adicional que sería una función que realizaría el ordenamiento. takeOrdered(n,func)"
      ]
    },
    {
      "cell_type": "markdown",
      "metadata": {
        "id": "68MkiRnZ17SI"
      },
      "source": [
        "**saveAsTextFile(path):** Almacena el conjunto de datos en un archivo de texto en la ruta path\n",
        "\n"
      ]
    },
    {
      "cell_type": "code",
      "metadata": {
        "id": "Dt8bLAYh2JCR"
      },
      "source": [
        "x = sc.parallelize([(\"a\", 1),(\"a\", 2), (\"b\", 4)])\n",
        "x.saveAsTextFile(\"local/data/ejemplo1\")"
      ],
      "execution_count": null,
      "outputs": []
    },
    {
      "cell_type": "markdown",
      "metadata": {
        "id": "7ENkqa6U3Cgh"
      },
      "source": [
        "**countByKey():** Devuelve un conjunto de datos representado por tuplas clave, valor. Donde el valor entregado será la suma de los elementos de la misma clave\n",
        "\n"
      ]
    },
    {
      "cell_type": "code",
      "metadata": {
        "id": "0-ZwoTgw3Lx1"
      },
      "source": [
        "rdd = sc.parallelize([(\"a\", 1), (\"b\", 1), (\"a\", 2), (\"b\", 6), (\"a\", 3), (\"c\", 5)])\n",
        "rdd.countByKey()"
      ],
      "execution_count": null,
      "outputs": []
    },
    {
      "cell_type": "markdown",
      "metadata": {
        "id": "yzvAe9WY3lCK"
      },
      "source": [
        "**Foreach(func):** Ejecuta la función indicada en cada elemento del conjunto de datos\n",
        "\n"
      ]
    },
    {
      "cell_type": "code",
      "metadata": {
        "id": "0d2o9YRGaP86"
      },
      "source": [
        "rdd=sc.parallelize([1, 2, 3, 4, 5])"
      ],
      "execution_count": null,
      "outputs": []
    },
    {
      "cell_type": "code",
      "metadata": {
        "id": "0ekE8YfLaj8C"
      },
      "source": [
        "def impar(x):\n",
        "  if x % 2 ==1:\n",
        "    print(\"%d es impar\" %x)"
      ],
      "execution_count": null,
      "outputs": []
    },
    {
      "cell_type": "code",
      "metadata": {
        "id": "8uEHxbSTa0Uh"
      },
      "source": [
        "rdd.foreach(impar)"
      ],
      "execution_count": null,
      "outputs": []
    },
    {
      "cell_type": "markdown",
      "metadata": {
        "id": "UNULTTvJOzJx"
      },
      "source": [
        "##**Persistencia**"
      ]
    },
    {
      "cell_type": "markdown",
      "metadata": {
        "id": "0wx8vjimhtuj"
      },
      "source": [
        "Teniendo en cuenta que la operación de los RDD es perezosa, la persistencia permite almacenar los RDD después de la primera vez que se calculan\tcon el fin de que las operaciones futuras se realicen mucho mas rápido\n",
        "\n",
        "Almacenar los datos en cache es clave para algoritmos iterativos\n",
        "\n",
        "Para persistir un RDD se utilizan los métodos: cache (persistir en memoria), persist (permite seleccionar el tipo de persistencia)\n",
        "\n"
      ]
    },
    {
      "cell_type": "markdown",
      "metadata": {
        "id": "PT31NMJWh50k"
      },
      "source": [
        "Veamos un ejemplo de persistencia.\n",
        "* Carguemos el archivo animales.txt\n",
        "* Apliquemos una persistencia\n",
        "* Veamos su contenido\n",
        "* Modifiquemos el contenido del archivo animales.txt\n",
        "* Veamos nuevamente el contenido del archivo"
      ]
    },
    {
      "cell_type": "code",
      "metadata": {
        "id": "s4_cYEWfiaOA"
      },
      "source": [
        "textRdd = sc.textFile(\"local/data/animales.txt\")\n",
        "textRdd.cache()\n",
        "textRdd.collect()"
      ],
      "execution_count": null,
      "outputs": []
    },
    {
      "cell_type": "markdown",
      "metadata": {
        "id": "JsuPXEBtifgk"
      },
      "source": [
        "Agreguemos una línea al archivo y volvamos a imprimirlo"
      ]
    },
    {
      "cell_type": "code",
      "metadata": {
        "id": "VNJ8VeUmilME"
      },
      "source": [
        "textRdd.collect()"
      ],
      "execution_count": null,
      "outputs": []
    },
    {
      "cell_type": "markdown",
      "metadata": {
        "id": "UrsVtChFjnj1"
      },
      "source": [
        "Porque **no se da cuenta** que el archivo se actualizó?"
      ]
    },
    {
      "cell_type": "markdown",
      "metadata": {
        "id": "nHrPk9kuTGmL"
      },
      "source": [
        "para persistir un RDD podemos utilizar la función cache() que realizará persistencia en memoria.\n",
        "\n",
        "Si queremos aplicar otro tipo de persistencia podemos aplicar la función persist(type) donde podemos indicar que tipo de persistencia queremos aplicar\n",
        "* MEMORY_ONLY: Es el nivel por defecto. Se almacenan en memoria como objetos Java\n",
        "\n",
        "* MEMORY_AND_DISK: Almacena en memoria y en caso de que requiera mas espacio almacenará las particiones restantes en disco\n",
        "\n",
        "* DISK_ONLY: Almacena solo en disco\n",
        "\n",
        "\n",
        "Spark maneja automáticamente los recursos y dejará de persistir RDDs inactivos si requiere memoria. \n",
        "\n",
        "Adicionalmente es posible dejar de pesistir con la función unpersist()\n",
        "\n",
        "Podemos consultar la persistencia de un RDD con la propiedad is_cached\n",
        "\n"
      ]
    },
    {
      "cell_type": "markdown",
      "metadata": {
        "id": "GH8TBVtfjx6r"
      },
      "source": [
        "La persistencia tiene grandes implicaciones en los tiempos de ejecución de un programa. Si se desea utilizar constantemente un mismo RDD, hacerlo persistente ayudará a que no sea necesario recalcular las transformaciones.\n",
        "\n",
        "Veamos los tiempos de ejecución aplicando operaciones matemáticas sobre RDD.\n",
        "Vamos a tomar los números del 0 al 1000, los elevamos al cuadrado y sumamos el resultado"
      ]
    },
    {
      "cell_type": "code",
      "metadata": {
        "id": "O-c-PlmRyn75"
      },
      "source": [
        "rdd=sc.parallelize(range(1000))\n",
        "rdd=rdd.map(lambda x: x*x)\n",
        "%time print (\"la suma del cuadrado de los números del 0 al 1000 es: \", rdd.sum())"
      ],
      "execution_count": null,
      "outputs": []
    },
    {
      "cell_type": "markdown",
      "metadata": {
        "id": "PlLeVQJrlRdM"
      },
      "source": [
        "Cada vez que va a mostrar el resultado debe volver a construir el rdd2.\n"
      ]
    },
    {
      "cell_type": "code",
      "metadata": {
        "id": "wEh_osyqVwFY"
      },
      "source": [
        "%time print (\"la suma del cuadrado de los números del 0 al 1000 es: \", rdd2.sum())"
      ],
      "execution_count": null,
      "outputs": []
    },
    {
      "cell_type": "code",
      "metadata": {
        "id": "oq2mBBs2goxq"
      },
      "source": [
        "rdd2.is_cached"
      ],
      "execution_count": null,
      "outputs": []
    },
    {
      "cell_type": "markdown",
      "metadata": {
        "id": "IRedCjSUSb2n"
      },
      "source": [
        "Ahora apliquemos persistencia"
      ]
    },
    {
      "cell_type": "code",
      "metadata": {
        "id": "23vFVN0Hd_9w"
      },
      "source": [
        "rdd2.cache()\n",
        "rdd2.take(5)"
      ],
      "execution_count": null,
      "outputs": []
    },
    {
      "cell_type": "code",
      "metadata": {
        "id": "DyaOvydoeMIA"
      },
      "source": [
        "rdd2.is_cached"
      ],
      "execution_count": null,
      "outputs": []
    },
    {
      "cell_type": "code",
      "metadata": {
        "id": "G5G_d8a3lkTw"
      },
      "source": [
        "%time print (\"la suma del cuadrado de los números del 0 al 1000 es: \", rdd2.sum())"
      ],
      "execution_count": null,
      "outputs": []
    },
    {
      "cell_type": "code",
      "metadata": {
        "id": "l9Tx6T4LeY6Y"
      },
      "source": [
        "rdd2.unpersist()"
      ],
      "execution_count": null,
      "outputs": []
    },
    {
      "cell_type": "code",
      "metadata": {
        "id": "XW2T1X6gehoo"
      },
      "source": [
        "rdd2.is_cached"
      ],
      "execution_count": null,
      "outputs": []
    },
    {
      "cell_type": "markdown",
      "metadata": {
        "id": "kAD5B6CRpDHp"
      },
      "source": [
        "##**Variables Compartidas**"
      ]
    },
    {
      "cell_type": "markdown",
      "metadata": {
        "id": "LrBfFKoxptwP"
      },
      "source": [
        "Cuando paralelizamos un variable, esta es dividida en fragmentos y cada uno de esos fragmentos es repartido entre los nodos del clúster, esto significa que los nodos no tienen los mismos datos excepto por los fragmentos coincidentes en las réplicas.\n",
        "\n",
        "Los resultados intermedios generados por las transformaciones realizadas por cada nodo no son compartidos a los demás nodos, esto quiere decir que son resultados locales que no se transmiten.\n",
        "\n",
        "En algunos casos puede ser importante disponer de un método que envíe a todos los nodos algún dato crucial para que se tenga en cuenta durante los cálculos a realizar, es decir, utilizar variables compartidas. Para esto Spark dispone de dos formas de compartir variables: broadcast y acumuladores"
      ]
    },
    {
      "cell_type": "markdown",
      "metadata": {
        "id": "LmDQNGbppMOH"
      },
      "source": [
        "###**Broadcast**"
      ]
    },
    {
      "cell_type": "markdown",
      "metadata": {
        "id": "hObxApgurXDR"
      },
      "source": [
        "Los broadcast o variables difundidas son variables de solo lectura que se transmiten a todos los nodos del clúster. Esto será de gran ayuda cuando el cálculo realizado por cada nodo requiere tener en cuenta el valor de la variable a compartir.\n",
        "\n",
        "Utilizando el método broadcast del SparkContext podemos difundir una variable"
      ]
    },
    {
      "cell_type": "code",
      "metadata": {
        "id": "EUHHPwGhsOMP"
      },
      "source": [
        "num= [1, 2, 3, 4, 5]\n",
        "numBcast=sc.broadcast(num)\n",
        "numBcast.value"
      ],
      "execution_count": null,
      "outputs": []
    },
    {
      "cell_type": "markdown",
      "metadata": {
        "id": "swFu0KvXpnRH"
      },
      "source": [
        "###**Acumuladores**"
      ]
    },
    {
      "cell_type": "markdown",
      "metadata": {
        "id": "_k9z8lh4ubSf"
      },
      "source": [
        "A diferencia de los broadcast que solo se pueden leer, los acumuladores pueden ser operados, es decir que cada nodo puede modificar el valor en el que se inicializa el acumulador."
      ]
    },
    {
      "cell_type": "code",
      "metadata": {
        "id": "ZE9ppsexuvYV"
      },
      "source": [
        "from operator import add\n",
        "suma = sc.accumulator(0)\n",
        "rdd= sc.parallelize([1,2,3,4,5])\n",
        "rdd.foreach(lambda x: suma.add(x))\n",
        "\n",
        "print(\"La suma es\", suma.value)"
      ],
      "execution_count": null,
      "outputs": []
    },
    {
      "cell_type": "markdown",
      "metadata": {
        "id": "WxFdx6lhA6xA"
      },
      "source": [
        "Podemos utilizar simultáneamente variables compartidas broadcast y acumuladores\n",
        "\n",
        "Teniendo un RDD que contiene los números del 0 al 10, vamos a contar (acumulador) cuantos de ellos son menores que n (broadcast)"
      ]
    },
    {
      "cell_type": "code",
      "metadata": {
        "id": "3MFHz3eeBIHn"
      },
      "source": [
        "rdd=sc.parallelize([0,1,2,3,4,5,6,7,8,9,10])\n",
        "n=sc.broadcast(x)\n",
        "an=sc.accumulator(0)\n",
        "rdd.collect()"
      ],
      "execution_count": null,
      "outputs": []
    },
    {
      "cell_type": "markdown",
      "metadata": {
        "id": "O2PNSv3ABG3i"
      },
      "source": [
        "Creemos una función map que nos ayude en el proceso"
      ]
    },
    {
      "cell_type": "code",
      "metadata": {
        "id": "HzkL5W38Cwdq"
      },
      "source": [
        "def menorN(x) :\n",
        "  global an\n",
        "  if x < 5:\n",
        "    an.add(1)\n",
        "    return (x,\"SI\")\n",
        "  else:\n",
        "    return (x,\"NO\")"
      ],
      "execution_count": null,
      "outputs": []
    },
    {
      "cell_type": "markdown",
      "metadata": {
        "id": "iItHaw4I6yV2"
      },
      "source": [
        "Con una función map recorremos la lista de valores del RDD para contar cuantos cumplen la condición y generamos una tupla de salida cuyo valor indica el cumplimiento de la condición"
      ]
    },
    {
      "cell_type": "code",
      "metadata": {
        "id": "m2ZZo4mhDbJ-"
      },
      "source": [
        "mn=rdd.map(menorN).collect()\n",
        "print(\"En el RDD el total de números menores que n es:\", an.value)\n"
      ],
      "execution_count": null,
      "outputs": []
    },
    {
      "cell_type": "code",
      "metadata": {
        "id": "3RBC4IO84CNW"
      },
      "source": [
        "display(mn)"
      ],
      "execution_count": null,
      "outputs": []
    },
    {
      "cell_type": "markdown",
      "metadata": {
        "id": "HNoN6dKdR-XN"
      },
      "source": [
        "#**Ejemplos**"
      ]
    },
    {
      "cell_type": "markdown",
      "metadata": {
        "id": "x9cizB3jhscK"
      },
      "source": [
        "###**Palabras más frecuentes en una obra de literatura**"
      ]
    },
    {
      "cell_type": "markdown",
      "metadata": {
        "id": "S-TpEpWHnuka"
      },
      "source": [
        "Cuáles son las 10 palabras más frecuentes de la obra de literatura Hamlet"
      ]
    },
    {
      "cell_type": "code",
      "metadata": {
        "id": "Oz8BOayISMz1"
      },
      "source": [
        "!wget --no-cache -O local/data/hamlet.txt -q http://www.gutenberg.org/cache/epub/56454/pg56454.txt"
      ],
      "execution_count": null,
      "outputs": []
    },
    {
      "cell_type": "code",
      "metadata": {
        "id": "DCdooWW5lJkU"
      },
      "source": [
        "hamlet = sc.textFile(\"local/data/hamlet.txt\")\n",
        "counts = hamlet.flatMap(lambda line: line.split(\" \")) \\\n",
        "             .map(lambda word: (word, 1)) \\\n",
        "             .reduceByKey(lambda a, b: a + b)\n",
        "top = counts.sortBy(lambda v: -v[1]).take(10)\n",
        "for p in top:\n",
        "\tprint (p[0] + \": %d\" % p[1])\n"
      ],
      "execution_count": null,
      "outputs": []
    },
    {
      "cell_type": "markdown",
      "metadata": {
        "id": "R2b4x_Nndl_u"
      },
      "source": [
        "lo que más se repite es el caracter vacío. \n",
        "\n",
        "Otro problema es que palabras como; \"De\" y \"de\" son diferentes\n",
        "\n",
        "Cómo lo solucionamos?"
      ]
    },
    {
      "cell_type": "code",
      "metadata": {
        "id": "KShiO6GtcRPc"
      },
      "source": [
        "hamlet = sc.textFile(\"local/data/hamlet.txt\")\n",
        "\n",
        "counts = hamlet.flatMap(lambda line: line.split(\" \")) \\\n",
        "      .filter(lambda x: x != '') \\\n",
        "      .map(lambda x: x.lower()) \\\n",
        "      .map(lambda word: (word, 1)) \\\n",
        "      .reduceByKey(lambda a, b: a + b)\n",
        "\n",
        "top = counts.sortBy(lambda v: -v[1]).take(10)\n",
        "\n",
        "for p in top:\n",
        "\tprint (p[0] + \": %d\" % p[1])"
      ],
      "execution_count": null,
      "outputs": []
    },
    {
      "cell_type": "markdown",
      "metadata": {
        "id": "kUwYWJPigxIi"
      },
      "source": [
        "Cuáles son las diferencias entre los dos resultados obtenidos?"
      ]
    },
    {
      "cell_type": "markdown",
      "metadata": {
        "id": "TqKJHt2G8LTh"
      },
      "source": [
        "Y cuáles serán las palabras que menos se repiten?"
      ]
    },
    {
      "cell_type": "code",
      "metadata": {
        "id": "pSvGmcAI8U4h"
      },
      "source": [
        "top = counts.sortBy(lambda v: v[1]).take(10)\n",
        "\n",
        "for p in top:\n",
        "\tprint (p[0] + \": %d\" % p[1])"
      ],
      "execution_count": null,
      "outputs": []
    },
    {
      "cell_type": "markdown",
      "metadata": {
        "id": "EhuTXmnUh8sA"
      },
      "source": [
        "###**Titanic**"
      ]
    },
    {
      "cell_type": "markdown",
      "metadata": {
        "id": "MPKd_3cvU389"
      },
      "source": [
        "El archivo titanic.csv recoge la información de los 2201 pasajeros del titanic. Para cada pasajero se dispone de la siguiente información.\n",
        "\n",
        "* Clase: Tripulación, Primera, Segunda, Tercera\n",
        "* Edad: Adulto, Niño\n",
        "* Sexo: Hombre, Mujer\n",
        "* Sobrevivió: Si, No"
      ]
    },
    {
      "cell_type": "code",
      "metadata": {
        "id": "2ba8C3KWTetB"
      },
      "source": [
        "file = sc.textFile(\"local/data/titanic.csv\")\n",
        "file.take(5)"
      ],
      "execution_count": null,
      "outputs": []
    },
    {
      "cell_type": "code",
      "metadata": {
        "id": "YnobNWhSg8B6"
      },
      "source": [
        "header = file.first()\n",
        "data = file.filter(lambda row: row != header)\n",
        "data.take(5) "
      ],
      "execution_count": null,
      "outputs": []
    },
    {
      "cell_type": "markdown",
      "metadata": {
        "id": "77yqo4NFYJ_-"
      },
      "source": [
        "Usemos como clave la variable Clase para crear rdd que relacionen la clase con cada una de las demás variables"
      ]
    },
    {
      "cell_type": "code",
      "metadata": {
        "id": "xiLnlYv-YTOS"
      },
      "source": [
        "def rddEdad(a):\n",
        "    data=a.split(\";\")\n",
        "    return (data[0], data[1])"
      ],
      "execution_count": null,
      "outputs": []
    },
    {
      "cell_type": "code",
      "metadata": {
        "id": "WoSWBRbqYcTE"
      },
      "source": [
        "def rddSexo(a):\n",
        "    data=a.split(\";\")\n",
        "    return (data[0], data[2])"
      ],
      "execution_count": null,
      "outputs": []
    },
    {
      "cell_type": "code",
      "metadata": {
        "id": "57hXgp-rYfUG"
      },
      "source": [
        "def rddSobrevivio(a):\n",
        "    data=a.split(\";\")\n",
        "    return (data[0], data[3])"
      ],
      "execution_count": null,
      "outputs": []
    },
    {
      "cell_type": "code",
      "metadata": {
        "id": "ia5pw_rSYmRV"
      },
      "source": [
        "edad=data.map(rddEdad)\n",
        "edad.take(5)"
      ],
      "execution_count": null,
      "outputs": []
    },
    {
      "cell_type": "code",
      "metadata": {
        "id": "MeFD2mhOYqih"
      },
      "source": [
        "sexo=data.map(rddSexo)\n",
        "sexo.take(5)"
      ],
      "execution_count": null,
      "outputs": []
    },
    {
      "cell_type": "code",
      "metadata": {
        "id": "djDLILpebo-e"
      },
      "source": [
        "sobrevivio=data.map(rddSobrevivio)\n",
        "sobrevivio.take(5)"
      ],
      "execution_count": null,
      "outputs": []
    },
    {
      "cell_type": "code",
      "metadata": {
        "id": "shY_6var2orp"
      },
      "source": [
        "sobrevivio.distinct().collect()"
      ],
      "execution_count": null,
      "outputs": []
    },
    {
      "cell_type": "markdown",
      "metadata": {
        "id": "8hCJPAmiegkn"
      },
      "source": [
        "**Cuántos pasajeros sobrevivieron por clase?**"
      ]
    },
    {
      "cell_type": "code",
      "metadata": {
        "id": "wX1sDTvYejcM"
      },
      "source": [
        "from operator import add\n",
        "sob=sobrevivio.map(lambda d: (d[0], 1 if d[1]==\"Si\" else 0))\n",
        "num=sob.reduceByKey(add)\n",
        "num.collect()"
      ],
      "execution_count": null,
      "outputs": []
    },
    {
      "cell_type": "markdown",
      "metadata": {
        "id": "rNB8XeeJlI_g"
      },
      "source": [
        "Y cómo contamos los que no sobrevivieron?"
      ]
    },
    {
      "cell_type": "code",
      "metadata": {
        "id": "0ez44m_UlVNC"
      },
      "source": [
        "a=sobrevivio.countByValue().items()\n"
      ],
      "execution_count": null,
      "outputs": []
    },
    {
      "cell_type": "code",
      "metadata": {
        "id": "OVU5c5h5ambm"
      },
      "source": [
        "list(a)[0]"
      ],
      "execution_count": null,
      "outputs": []
    },
    {
      "cell_type": "code",
      "metadata": {
        "id": "0b6P4pESb8c1"
      },
      "source": [
        "list(a)[0][0]"
      ],
      "execution_count": null,
      "outputs": []
    },
    {
      "cell_type": "code",
      "metadata": {
        "id": "eqj9qwjFcADu"
      },
      "source": [
        "list(a)[0][0][0]"
      ],
      "execution_count": null,
      "outputs": []
    },
    {
      "cell_type": "code",
      "metadata": {
        "id": "gQFRu3lUar-0"
      },
      "source": [
        "a.items()"
      ],
      "execution_count": null,
      "outputs": []
    },
    {
      "cell_type": "markdown",
      "metadata": {
        "id": "Ot82PGQi_K_x"
      },
      "source": [
        "Calculemos el promedio de sobrevivientes por clase"
      ]
    },
    {
      "cell_type": "code",
      "metadata": {
        "id": "PQHVwXb8_O43"
      },
      "source": [
        "sobrevivio.distinct().collect()"
      ],
      "execution_count": null,
      "outputs": []
    },
    {
      "cell_type": "markdown",
      "metadata": {
        "id": "HG27wHYDAlZZ"
      },
      "source": [
        "Creemos un RDD que permita contar los registros de cada clase y los registros de cada clase que sobrevivieron"
      ]
    },
    {
      "cell_type": "code",
      "metadata": {
        "id": "EqBAjskC_Wnr"
      },
      "source": [
        "contsob=sobrevivio.mapValues(lambda x: (1, 1 if x==\"Si\" else 0))\n",
        "contsob.distinct().collect()"
      ],
      "execution_count": null,
      "outputs": []
    },
    {
      "cell_type": "markdown",
      "metadata": {
        "id": "0wzGvPb1A02E"
      },
      "source": [
        "para calcular el promedio de sobrevivientes por clase primero sumamos todos los registros de cada clase y todos los sobrevivientes de cada clase"
      ]
    },
    {
      "cell_type": "code",
      "metadata": {
        "id": "TvVurvp9BEV7"
      },
      "source": [
        "suma=contsob.reduceByKey(lambda x,y: (x[0] + y[0],x[1]+y[1]))\n",
        "suma.collect()"
      ],
      "execution_count": null,
      "outputs": []
    },
    {
      "cell_type": "markdown",
      "metadata": {
        "id": "Pa1o66gLDFck"
      },
      "source": [
        "Ahora calculemos el promedio"
      ]
    },
    {
      "cell_type": "code",
      "metadata": {
        "id": "2f2Rb7ByDIFD"
      },
      "source": [
        "prom=suma.mapValues(lambda x: round(100*(x[1]/x[0]),1))\n",
        "prom.collect()"
      ],
      "execution_count": null,
      "outputs": []
    },
    {
      "cell_type": "markdown",
      "metadata": {
        "id": "Y-pwc8ZXY_wi"
      },
      "source": [
        "**Qué pasó con los adultos de tercera clase?**\n",
        "\n",
        "Primero creemos un solo RDD con la información necesaria"
      ]
    },
    {
      "cell_type": "code",
      "metadata": {
        "id": "O2k1Riu5bp5B"
      },
      "source": [
        "def rddTitanic(a):\n",
        "    data=a.split(\";\")\n",
        "    return (data[0], data[1], data[2], data[3])"
      ],
      "execution_count": null,
      "outputs": []
    },
    {
      "cell_type": "code",
      "metadata": {
        "id": "bzmUMFgmb6qJ"
      },
      "source": [
        "titanic=data.map(rddTitanic)\n",
        "titanic.take(5)"
      ],
      "execution_count": null,
      "outputs": []
    },
    {
      "cell_type": "code",
      "metadata": {
        "id": "6PJ6WIi3ZREV"
      },
      "source": [
        "at=titanic.filter(lambda d: d[0] == \"Tercera\" and d[1]==\"Adulto\")\n",
        "at.take(5)"
      ],
      "execution_count": null,
      "outputs": []
    },
    {
      "cell_type": "code",
      "metadata": {
        "id": "NJU0MT0M51Ov"
      },
      "source": [
        "at.count()"
      ],
      "execution_count": null,
      "outputs": []
    },
    {
      "cell_type": "code",
      "metadata": {
        "id": "v2ijwX0K5511"
      },
      "source": [
        "titanic.count()"
      ],
      "execution_count": null,
      "outputs": []
    },
    {
      "cell_type": "code",
      "metadata": {
        "id": "o2t3ZVr9c5GB"
      },
      "source": [
        "ats=at.map(lambda d: (d[2], 1 if d[3]==\"Si\" else 0))\n",
        "ats.take(5)"
      ],
      "execution_count": null,
      "outputs": []
    },
    {
      "cell_type": "code",
      "metadata": {
        "id": "gbyW7wDy6Nx8"
      },
      "source": [
        "ats.distinct().collect()"
      ],
      "execution_count": null,
      "outputs": []
    },
    {
      "cell_type": "code",
      "metadata": {
        "id": "k27s02FCQpos"
      },
      "source": [
        "num=ats.reduceByKey(add)\n",
        "num.collect()\n"
      ],
      "execution_count": null,
      "outputs": []
    },
    {
      "cell_type": "markdown",
      "metadata": {
        "id": "JCRhBE8jvENe"
      },
      "source": [
        "De los adultos de tercera clase sobrevivieron 76 mujeres y 75 hombres.\n",
        "\n",
        "Pero cuál era el total de adultos de tercera clase?"
      ]
    },
    {
      "cell_type": "code",
      "metadata": {
        "id": "k1jX1pFIvela"
      },
      "source": [
        "hombres = sc.accumulator(0)\n",
        "mujeres = sc.accumulator(0) \n",
        "ats.filter(lambda k: k[0]==\"Hombre\").foreach(lambda k: hombres.add(1))\n",
        "ats.filter(lambda k: k[0]==\"Mujer\").foreach(lambda k: mujeres.add(1))\n",
        "\n",
        "print(\"La cantidad de hombres adultos en el titanic es de \",hombres.value)\n",
        "print(\"La cantidad de mujeres adultas en el titanic es de \",mujeres.value)\n"
      ],
      "execution_count": null,
      "outputs": []
    },
    {
      "cell_type": "markdown",
      "metadata": {
        "id": "iLLmPQ8s2gLM"
      },
      "source": [
        "Que tal una forma más sencilla de resolverlo"
      ]
    },
    {
      "cell_type": "code",
      "metadata": {
        "id": "LjRl2fvbxXcF"
      },
      "source": [
        "a=ats.countByKey()"
      ],
      "execution_count": null,
      "outputs": []
    },
    {
      "cell_type": "code",
      "metadata": {
        "id": "89iESwpC7fKE"
      },
      "source": [
        "type(a)"
      ],
      "execution_count": null,
      "outputs": []
    },
    {
      "cell_type": "markdown",
      "metadata": {
        "id": "4gndvvqn4LZF"
      },
      "source": [
        "**Al momento del rescate se cumplió con la premisa \"Mujeres y niños primero\"**"
      ]
    },
    {
      "cell_type": "markdown",
      "metadata": {
        "id": "cIuXnzqE8KSJ"
      },
      "source": [
        "Calculemos las mujeres que sobrevivieron"
      ]
    },
    {
      "cell_type": "code",
      "metadata": {
        "id": "psCgJpgm8hps"
      },
      "source": [
        "titanic.take(2)"
      ],
      "execution_count": null,
      "outputs": []
    },
    {
      "cell_type": "code",
      "metadata": {
        "id": "wAj4AXKN8Pc5"
      },
      "source": [
        "sobs=titanic.map(lambda x: (x[2], int (x[3]==\"Si\")))\n",
        "sobs.distinct().collect()"
      ],
      "execution_count": null,
      "outputs": []
    },
    {
      "cell_type": "code",
      "metadata": {
        "id": "C2nKb_rg9VN7"
      },
      "source": [
        "num=sobs.reduceByKey(add)\n",
        "num.collect()"
      ],
      "execution_count": null,
      "outputs": []
    },
    {
      "cell_type": "markdown",
      "metadata": {
        "id": "20jeJCoW93b7"
      },
      "source": [
        "Ahora calculemos los niños que sobrevivieron"
      ]
    },
    {
      "cell_type": "code",
      "metadata": {
        "id": "lNkffP5F920n"
      },
      "source": [
        "titanic.map(lambda x: (x[1], int (x[3]==\"Si\"))).reduceByKey(add).collect()"
      ],
      "execution_count": null,
      "outputs": []
    },
    {
      "cell_type": "markdown",
      "metadata": {
        "id": "TkwMd9Hk-Qqg"
      },
      "source": [
        "Tenemos el total de mujeres que sobrevivieron y el total de niños que sobrevivieron. \n",
        "\n",
        "Cómo calculamos el total de mujeres y niños que sobrevivieron?"
      ]
    },
    {
      "cell_type": "code",
      "metadata": {
        "id": "3RAEf3GC5mIL"
      },
      "source": [
        "def rddMN(a):\n",
        "    if (a[1]==\"Ni�o\" or a[2]==\"Mujer\"):\n",
        "      return (\"Mujeres y niños\", int (a[3]==\"Si\"))\n",
        "    else:\n",
        "      return (\"Otros\", int (a[3]==\"Si\"))"
      ],
      "execution_count": null,
      "outputs": []
    },
    {
      "cell_type": "code",
      "metadata": {
        "id": "qHHVx_MmdA6e"
      },
      "source": [
        "mn=titanic.map(rddMN)\n",
        "mn.distinct().collect()"
      ],
      "execution_count": null,
      "outputs": []
    },
    {
      "cell_type": "code",
      "metadata": {
        "id": "ieWTZp0J6v75"
      },
      "source": [
        "mn.reduceByKey(add).collect()"
      ],
      "execution_count": null,
      "outputs": []
    },
    {
      "cell_type": "markdown",
      "metadata": {
        "id": "S8wC6TmiimeA"
      },
      "source": [
        "Que se puede concluir con este resultado?"
      ]
    },
    {
      "cell_type": "code",
      "metadata": {
        "id": "Eez7Bamah-x2"
      },
      "source": [
        "mn.countByKey().items()"
      ],
      "execution_count": null,
      "outputs": []
    },
    {
      "cell_type": "markdown",
      "metadata": {
        "id": "JVwj3nIvmjBZ"
      },
      "source": [
        "Esto puede aclarar el resultado"
      ]
    },
    {
      "cell_type": "code",
      "metadata": {
        "id": "T36S1skFl1OC"
      },
      "source": [
        "a=mn.countByValue().items()"
      ],
      "execution_count": null,
      "outputs": []
    },
    {
      "cell_type": "code",
      "metadata": {
        "id": "13-rhmOWUTsE"
      },
      "source": [
        "type(a)"
      ],
      "execution_count": null,
      "outputs": []
    },
    {
      "cell_type": "markdown",
      "metadata": {
        "id": "uAhav39ySByl"
      },
      "source": [
        "#**Ejercicios**"
      ]
    },
    {
      "cell_type": "markdown",
      "metadata": {
        "id": "MUkopCOzpYEy"
      },
      "source": [
        "Se dispone de un dataset que contiene información relacionada con el hurto a personas en Colombia, son mas de 100.000 casos de hurtos cometidos en el país en la última época\n",
        "\n",
        "Cada registro presenta la siguiente información\n",
        "\n",
        "* Departamento\t\n",
        "* Municipio\t\n",
        "* Día \t\n",
        "* Hora \t\n",
        "* Zona (urbana, rural)\t\n",
        "* Arma empleada\t\n",
        "* Movil agresor\t\n",
        "* Movil víctima\t\n",
        "* Edad víctima\t\n",
        "* Sexo víctima\n"
      ]
    },
    {
      "cell_type": "markdown",
      "metadata": {
        "id": "jOlIFRX1qadU"
      },
      "source": [
        "Utilizando RDDs, resuelva a las siguientes inquietudes:\n",
        "\n",
        "1. Top 10 de los municipios de Antioquia que presentan mayor y menor número de hurtos\n",
        "2. Tipos de armas más utilizadas en zona urbana y rural\n",
        "3. Promedio de edad de las víctimas por departamento\n",
        "4. Tipo de vehículo más utilizado para los hurtos en los fines de semana\n",
        "5. Promedio de casos de hurto por sexo para cada día de la semana\n",
        "6. Municipio de Colombia que presenta mayor número de hurtos a mujeres mayores de 40 años"
      ]
    }
  ]
}